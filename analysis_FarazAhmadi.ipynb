{
 "cells": [
  {
   "cell_type": "markdown",
   "id": "f695428f",
   "metadata": {},
   "source": [
    "# Plane Crash data cleaning\n",
    "\n",
    "__Goal__: Your colleague, a senior data scientist, is interested in working with the plane crashes dataset provided as an attachment to this assignment. They are interested in exploring the data to try to find any interesting patterns, trends, and relationships, but do not have a specific purpose or analytic goal in mind at this time. You have been asked to prepare this data for use and provide an analysis of the underlying data."
   ]
  },
  {
   "cell_type": "markdown",
   "id": "d51aa95b",
   "metadata": {},
   "source": [
    "![planecrash](https://cdn.dribbble.com/users/1459485/screenshots/9400160/plane-illustration-dribble_4x.png)"
   ]
  },
  {
   "cell_type": "markdown",
   "id": "cf148826",
   "metadata": {},
   "source": [
    "## Reading the raw data"
   ]
  },
  {
   "cell_type": "code",
   "execution_count": 1,
   "id": "df8a200a",
   "metadata": {},
   "outputs": [],
   "source": [
    "import pandas as pd\n",
    "import numpy as np"
   ]
  },
  {
   "cell_type": "code",
   "execution_count": 2,
   "id": "316d87e6",
   "metadata": {
    "scrolled": true
   },
   "outputs": [
    {
     "data": {
      "text/html": [
       "<div>\n",
       "<style scoped>\n",
       "    .dataframe tbody tr th:only-of-type {\n",
       "        vertical-align: middle;\n",
       "    }\n",
       "\n",
       "    .dataframe tbody tr th {\n",
       "        vertical-align: top;\n",
       "    }\n",
       "\n",
       "    .dataframe thead th {\n",
       "        text-align: right;\n",
       "    }\n",
       "</style>\n",
       "<table border=\"1\" class=\"dataframe\">\n",
       "  <thead>\n",
       "    <tr style=\"text-align: right;\">\n",
       "      <th></th>\n",
       "      <th>date</th>\n",
       "      <th>time</th>\n",
       "      <th>location</th>\n",
       "      <th>operator</th>\n",
       "      <th>flight_no</th>\n",
       "      <th>route</th>\n",
       "      <th>ac_type</th>\n",
       "      <th>registration</th>\n",
       "      <th>cn_ln</th>\n",
       "      <th>aboard</th>\n",
       "      <th>fatalities</th>\n",
       "      <th>ground</th>\n",
       "      <th>summary</th>\n",
       "    </tr>\n",
       "  </thead>\n",
       "  <tbody>\n",
       "    <tr>\n",
       "      <th>0</th>\n",
       "      <td>17-Sep-08</td>\n",
       "      <td>17:18</td>\n",
       "      <td>Fort Myer, Virginia</td>\n",
       "      <td>Military - U.S. Army</td>\n",
       "      <td>?</td>\n",
       "      <td>Demonstration</td>\n",
       "      <td>Wright Flyer III</td>\n",
       "      <td>?</td>\n",
       "      <td>1</td>\n",
       "      <td>2   (passengers:1  crew:1)</td>\n",
       "      <td>1   (passengers:1  crew:0)</td>\n",
       "      <td>0</td>\n",
       "      <td>During a demonstration flight, a U.S. Army fly...</td>\n",
       "    </tr>\n",
       "    <tr>\n",
       "      <th>1</th>\n",
       "      <td>07-Sep-09</td>\n",
       "      <td>?</td>\n",
       "      <td>Juvisy-sur-Orge, France</td>\n",
       "      <td>?</td>\n",
       "      <td>?</td>\n",
       "      <td>Air show</td>\n",
       "      <td>Wright Byplane</td>\n",
       "      <td>SC1</td>\n",
       "      <td>?</td>\n",
       "      <td>1   (passengers:0  crew:1)</td>\n",
       "      <td>1   (passengers:0  crew:0)</td>\n",
       "      <td>0</td>\n",
       "      <td>Eugene Lefebvre was the first pilot to ever be...</td>\n",
       "    </tr>\n",
       "    <tr>\n",
       "      <th>2</th>\n",
       "      <td>12-Jul-12</td>\n",
       "      <td>6:30</td>\n",
       "      <td>Atlantic City, New Jersey</td>\n",
       "      <td>Military - U.S. Navy</td>\n",
       "      <td>?</td>\n",
       "      <td>Test flight</td>\n",
       "      <td>Dirigible</td>\n",
       "      <td>?</td>\n",
       "      <td>?</td>\n",
       "      <td>5   (passengers:0  crew:5)</td>\n",
       "      <td>5   (passengers:0  crew:5)</td>\n",
       "      <td>0</td>\n",
       "      <td>First U.S. dirigible Akron exploded just offsh...</td>\n",
       "    </tr>\n",
       "    <tr>\n",
       "      <th>3</th>\n",
       "      <td>06-Aug-13</td>\n",
       "      <td>?</td>\n",
       "      <td>Victoria, British Columbia, Canada</td>\n",
       "      <td>Private</td>\n",
       "      <td>?</td>\n",
       "      <td>?</td>\n",
       "      <td>Curtiss seaplane</td>\n",
       "      <td>?</td>\n",
       "      <td>?</td>\n",
       "      <td>1   (passengers:0  crew:1)</td>\n",
       "      <td>1   (passengers:0  crew:1)</td>\n",
       "      <td>0</td>\n",
       "      <td>The first fatal airplane accident in Canada oc...</td>\n",
       "    </tr>\n",
       "    <tr>\n",
       "      <th>4</th>\n",
       "      <td>09-Sep-13</td>\n",
       "      <td>c 18:30</td>\n",
       "      <td>Over the North Sea</td>\n",
       "      <td>Military - German Navy</td>\n",
       "      <td>?</td>\n",
       "      <td>?</td>\n",
       "      <td>Zeppelin L-1 (airship)</td>\n",
       "      <td>?</td>\n",
       "      <td>?</td>\n",
       "      <td>20   (passengers:?  crew:?)</td>\n",
       "      <td>14   (passengers:?  crew:?)</td>\n",
       "      <td>0</td>\n",
       "      <td>The airship flew into a thunderstorm and encou...</td>\n",
       "    </tr>\n",
       "  </tbody>\n",
       "</table>\n",
       "</div>"
      ],
      "text/plain": [
       "        date     time                            location  \\\n",
       "0  17-Sep-08    17:18                 Fort Myer, Virginia   \n",
       "1  07-Sep-09        ?             Juvisy-sur-Orge, France   \n",
       "2  12-Jul-12     6:30           Atlantic City, New Jersey   \n",
       "3  06-Aug-13        ?  Victoria, British Columbia, Canada   \n",
       "4  09-Sep-13  c 18:30                  Over the North Sea   \n",
       "\n",
       "                 operator flight_no          route                 ac_type  \\\n",
       "0    Military - U.S. Army         ?  Demonstration        Wright Flyer III   \n",
       "1                       ?         ?       Air show          Wright Byplane   \n",
       "2    Military - U.S. Navy         ?    Test flight               Dirigible   \n",
       "3                 Private         ?              ?        Curtiss seaplane   \n",
       "4  Military - German Navy         ?              ?  Zeppelin L-1 (airship)   \n",
       "\n",
       "  registration cn_ln                       aboard  \\\n",
       "0            ?     1   2   (passengers:1  crew:1)   \n",
       "1          SC1     ?   1   (passengers:0  crew:1)   \n",
       "2            ?     ?   5   (passengers:0  crew:5)   \n",
       "3            ?     ?   1   (passengers:0  crew:1)   \n",
       "4            ?     ?  20   (passengers:?  crew:?)   \n",
       "\n",
       "                    fatalities ground  \\\n",
       "0   1   (passengers:1  crew:0)      0   \n",
       "1   1   (passengers:0  crew:0)      0   \n",
       "2   5   (passengers:0  crew:5)      0   \n",
       "3   1   (passengers:0  crew:1)      0   \n",
       "4  14   (passengers:?  crew:?)      0   \n",
       "\n",
       "                                             summary  \n",
       "0  During a demonstration flight, a U.S. Army fly...  \n",
       "1  Eugene Lefebvre was the first pilot to ever be...  \n",
       "2  First U.S. dirigible Akron exploded just offsh...  \n",
       "3  The first fatal airplane accident in Canada oc...  \n",
       "4  The airship flew into a thunderstorm and encou...  "
      ]
     },
     "execution_count": 2,
     "metadata": {},
     "output_type": "execute_result"
    }
   ],
   "source": [
    "original = pd.read_csv(\"./plane_crashes_data_format.csv\") #saved and read as utf-8 format\n",
    "df = original.copy()\n",
    "df.head()"
   ]
  },
  {
   "cell_type": "code",
   "execution_count": 3,
   "id": "0238252a",
   "metadata": {},
   "outputs": [
    {
     "data": {
      "text/plain": [
       "(5783, 13)"
      ]
     },
     "execution_count": 3,
     "metadata": {},
     "output_type": "execute_result"
    }
   ],
   "source": [
    "df.shape"
   ]
  },
  {
   "cell_type": "code",
   "execution_count": 4,
   "id": "a1506156",
   "metadata": {
    "scrolled": false
   },
   "outputs": [
    {
     "name": "stdout",
     "output_type": "stream",
     "text": [
      "<class 'pandas.core.frame.DataFrame'>\n",
      "RangeIndex: 5783 entries, 0 to 5782\n",
      "Data columns (total 13 columns):\n",
      " #   Column        Non-Null Count  Dtype \n",
      "---  ------        --------------  ----- \n",
      " 0   date          5783 non-null   object\n",
      " 1   time          5783 non-null   object\n",
      " 2   location      5783 non-null   object\n",
      " 3   operator      5783 non-null   object\n",
      " 4   flight_no     5783 non-null   object\n",
      " 5   route         5783 non-null   object\n",
      " 6   ac_type       5783 non-null   object\n",
      " 7   registration  5783 non-null   object\n",
      " 8   cn_ln         5783 non-null   object\n",
      " 9   aboard        5783 non-null   object\n",
      " 10  fatalities    5783 non-null   object\n",
      " 11  ground        5783 non-null   object\n",
      " 12  summary       5783 non-null   object\n",
      "dtypes: object(13)\n",
      "memory usage: 587.5+ KB\n"
     ]
    }
   ],
   "source": [
    "#The data is a mess!\n",
    "df.info()"
   ]
  },
  {
   "cell_type": "code",
   "execution_count": 5,
   "id": "feb9ee07",
   "metadata": {},
   "outputs": [],
   "source": [
    "#change  '?' to NA in all columns\n",
    "df = df.replace({\"?\": np.nan})"
   ]
  },
  {
   "cell_type": "markdown",
   "id": "854d32e5",
   "metadata": {},
   "source": [
    "## 1. Date"
   ]
  },
  {
   "cell_type": "code",
   "execution_count": 6,
   "id": "18080b09",
   "metadata": {
    "scrolled": true
   },
   "outputs": [
    {
     "data": {
      "text/plain": [
       "<bound method IndexOpsMixin.value_counts of 0       17-Sep-08\n",
       "1       07-Sep-09\n",
       "2       12-Jul-12\n",
       "3       06-Aug-13\n",
       "4       09-Sep-13\n",
       "          ...    \n",
       "5778    10-Jul-18\n",
       "5779    04-Aug-18\n",
       "5780    28-Sep-18\n",
       "5781    29-Oct-18\n",
       "5782    06-Nov-18\n",
       "Name: date, Length: 5783, dtype: object>"
      ]
     },
     "execution_count": 6,
     "metadata": {},
     "output_type": "execute_result"
    }
   ],
   "source": [
    "df.date.value_counts"
   ]
  },
  {
   "cell_type": "code",
   "execution_count": 7,
   "id": "f05ed0ea",
   "metadata": {},
   "outputs": [
    {
     "data": {
      "text/html": [
       "<div>\n",
       "<style scoped>\n",
       "    .dataframe tbody tr th:only-of-type {\n",
       "        vertical-align: middle;\n",
       "    }\n",
       "\n",
       "    .dataframe tbody tr th {\n",
       "        vertical-align: top;\n",
       "    }\n",
       "\n",
       "    .dataframe thead th {\n",
       "        text-align: right;\n",
       "    }\n",
       "</style>\n",
       "<table border=\"1\" class=\"dataframe\">\n",
       "  <thead>\n",
       "    <tr style=\"text-align: right;\">\n",
       "      <th></th>\n",
       "      <th>date</th>\n",
       "      <th>date_parsed</th>\n",
       "    </tr>\n",
       "  </thead>\n",
       "  <tbody>\n",
       "    <tr>\n",
       "      <th>0</th>\n",
       "      <td>17-Sep-08</td>\n",
       "      <td>2008-09-17</td>\n",
       "    </tr>\n",
       "    <tr>\n",
       "      <th>1</th>\n",
       "      <td>07-Sep-09</td>\n",
       "      <td>2009-09-07</td>\n",
       "    </tr>\n",
       "    <tr>\n",
       "      <th>2</th>\n",
       "      <td>12-Jul-12</td>\n",
       "      <td>2012-07-12</td>\n",
       "    </tr>\n",
       "    <tr>\n",
       "      <th>3</th>\n",
       "      <td>06-Aug-13</td>\n",
       "      <td>2013-08-06</td>\n",
       "    </tr>\n",
       "    <tr>\n",
       "      <th>4</th>\n",
       "      <td>09-Sep-13</td>\n",
       "      <td>2013-09-09</td>\n",
       "    </tr>\n",
       "    <tr>\n",
       "      <th>...</th>\n",
       "      <td>...</td>\n",
       "      <td>...</td>\n",
       "    </tr>\n",
       "    <tr>\n",
       "      <th>5778</th>\n",
       "      <td>10-Jul-18</td>\n",
       "      <td>2018-07-10</td>\n",
       "    </tr>\n",
       "    <tr>\n",
       "      <th>5779</th>\n",
       "      <td>04-Aug-18</td>\n",
       "      <td>2018-08-04</td>\n",
       "    </tr>\n",
       "    <tr>\n",
       "      <th>5780</th>\n",
       "      <td>28-Sep-18</td>\n",
       "      <td>2018-09-28</td>\n",
       "    </tr>\n",
       "    <tr>\n",
       "      <th>5781</th>\n",
       "      <td>29-Oct-18</td>\n",
       "      <td>2018-10-29</td>\n",
       "    </tr>\n",
       "    <tr>\n",
       "      <th>5782</th>\n",
       "      <td>06-Nov-18</td>\n",
       "      <td>2018-11-06</td>\n",
       "    </tr>\n",
       "  </tbody>\n",
       "</table>\n",
       "<p>5783 rows × 2 columns</p>\n",
       "</div>"
      ],
      "text/plain": [
       "           date date_parsed\n",
       "0     17-Sep-08  2008-09-17\n",
       "1     07-Sep-09  2009-09-07\n",
       "2     12-Jul-12  2012-07-12\n",
       "3     06-Aug-13  2013-08-06\n",
       "4     09-Sep-13  2013-09-09\n",
       "...         ...         ...\n",
       "5778  10-Jul-18  2018-07-10\n",
       "5779  04-Aug-18  2018-08-04\n",
       "5780  28-Sep-18  2018-09-28\n",
       "5781  29-Oct-18  2018-10-29\n",
       "5782  06-Nov-18  2018-11-06\n",
       "\n",
       "[5783 rows x 2 columns]"
      ]
     },
     "execution_count": 7,
     "metadata": {},
     "output_type": "execute_result"
    }
   ],
   "source": [
    "look_up = {'Jan':'01',\n",
    "           'Feb':'02',\n",
    "           'Mar':'03',\n",
    "           'Apr':'04',\n",
    "           'May':'05',\n",
    "           'Jun':'06',\n",
    "           'Jul':'07',\n",
    "           'Aug':'08',\n",
    "           'Sep':'09',\n",
    "           'Oct':'10',\n",
    "           'Nov':'11',\n",
    "           'Dec':'12'}\n",
    "\n",
    "df[\"date_parsed\"] = df.date.replace(to_replace = look_up, regex=True)\n",
    "df[\"date_parsed\"] = pd.to_datetime(df['date_parsed'], format = \"%d-%m-%y\") #two-digit year is %y not %Y\n",
    "df[[\"date\",\"date_parsed\"]]"
   ]
  },
  {
   "cell_type": "code",
   "execution_count": 8,
   "id": "44ad8c2c",
   "metadata": {
    "scrolled": false
   },
   "outputs": [
    {
     "data": {
      "text/plain": [
       "count    5783.000000\n",
       "mean     2015.211655\n",
       "std        32.372612\n",
       "min      1969.000000\n",
       "25%      1987.000000\n",
       "50%      2006.000000\n",
       "75%      2048.000000\n",
       "max      2068.000000\n",
       "Name: date_parsed, dtype: float64"
      ]
     },
     "execution_count": 8,
     "metadata": {},
     "output_type": "execute_result"
    }
   ],
   "source": [
    "# More Quality Check on date_parsed\n",
    "\n",
    "df.date_parsed.dt.year.describe()"
   ]
  },
  {
   "cell_type": "code",
   "execution_count": 9,
   "id": "23fdb198",
   "metadata": {
    "scrolled": true
   },
   "outputs": [
    {
     "data": {
      "text/html": [
       "<div>\n",
       "<style scoped>\n",
       "    .dataframe tbody tr th:only-of-type {\n",
       "        vertical-align: middle;\n",
       "    }\n",
       "\n",
       "    .dataframe tbody tr th {\n",
       "        vertical-align: top;\n",
       "    }\n",
       "\n",
       "    .dataframe thead th {\n",
       "        text-align: right;\n",
       "    }\n",
       "</style>\n",
       "<table border=\"1\" class=\"dataframe\">\n",
       "  <thead>\n",
       "    <tr style=\"text-align: right;\">\n",
       "      <th></th>\n",
       "      <th>date</th>\n",
       "      <th>date_parsed</th>\n",
       "    </tr>\n",
       "  </thead>\n",
       "  <tbody>\n",
       "    <tr>\n",
       "      <th>50</th>\n",
       "      <td>03-Feb-21</td>\n",
       "      <td>2021-02-03</td>\n",
       "    </tr>\n",
       "    <tr>\n",
       "      <th>51</th>\n",
       "      <td>09-Feb-21</td>\n",
       "      <td>2021-02-09</td>\n",
       "    </tr>\n",
       "    <tr>\n",
       "      <th>52</th>\n",
       "      <td>15-Feb-21</td>\n",
       "      <td>2021-02-15</td>\n",
       "    </tr>\n",
       "    <tr>\n",
       "      <th>53</th>\n",
       "      <td>22-Feb-21</td>\n",
       "      <td>2021-02-22</td>\n",
       "    </tr>\n",
       "    <tr>\n",
       "      <th>54</th>\n",
       "      <td>06-Apr-21</td>\n",
       "      <td>2021-04-06</td>\n",
       "    </tr>\n",
       "    <tr>\n",
       "      <th>...</th>\n",
       "      <td>...</td>\n",
       "      <td>...</td>\n",
       "    </tr>\n",
       "    <tr>\n",
       "      <th>2446</th>\n",
       "      <td>26-Dec-68</td>\n",
       "      <td>2068-12-26</td>\n",
       "    </tr>\n",
       "    <tr>\n",
       "      <th>2447</th>\n",
       "      <td>26-Dec-68</td>\n",
       "      <td>2068-12-26</td>\n",
       "    </tr>\n",
       "    <tr>\n",
       "      <th>2448</th>\n",
       "      <td>27-Dec-68</td>\n",
       "      <td>2068-12-27</td>\n",
       "    </tr>\n",
       "    <tr>\n",
       "      <th>2449</th>\n",
       "      <td>31-Dec-68</td>\n",
       "      <td>2068-12-31</td>\n",
       "    </tr>\n",
       "    <tr>\n",
       "      <th>2450</th>\n",
       "      <td>31-Dec-68</td>\n",
       "      <td>2068-12-31</td>\n",
       "    </tr>\n",
       "  </tbody>\n",
       "</table>\n",
       "<p>2401 rows × 2 columns</p>\n",
       "</div>"
      ],
      "text/plain": [
       "           date date_parsed\n",
       "50    03-Feb-21  2021-02-03\n",
       "51    09-Feb-21  2021-02-09\n",
       "52    15-Feb-21  2021-02-15\n",
       "53    22-Feb-21  2021-02-22\n",
       "54    06-Apr-21  2021-04-06\n",
       "...         ...         ...\n",
       "2446  26-Dec-68  2068-12-26\n",
       "2447  26-Dec-68  2068-12-26\n",
       "2448  27-Dec-68  2068-12-27\n",
       "2449  31-Dec-68  2068-12-31\n",
       "2450  31-Dec-68  2068-12-31\n",
       "\n",
       "[2401 rows x 2 columns]"
      ]
     },
     "execution_count": 9,
     "metadata": {},
     "output_type": "execute_result"
    }
   ],
   "source": [
    "# There are some values from the future which could not be right!\n",
    "df.loc[df.date_parsed.dt.year > 2020,[\"date\", \"date_parsed\", ]]"
   ]
  },
  {
   "cell_type": "code",
   "execution_count": 10,
   "id": "7bafe1e1",
   "metadata": {
    "scrolled": true
   },
   "outputs": [],
   "source": [
    "# As shown above, the error comes from wrong assignment to years. '68' is actually 1968 instead of 2068\n",
    "# It seems the most latest year amount in the raw data is '18' (2018) and it starts from early 1908!!!\n",
    "# It is best to find the index of the year 2000 as the data is ordered originally chronologically\n",
    "# and append the 19-- or 20-- manually\n",
    "# the challange is that year comes at the end of the string"
   ]
  },
  {
   "cell_type": "code",
   "execution_count": 11,
   "id": "8d59ab17",
   "metadata": {
    "scrolled": false
   },
   "outputs": [
    {
     "data": {
      "text/plain": [
       "0       17-09-08\n",
       "1       07-09-09\n",
       "2       12-07-12\n",
       "3       06-08-13\n",
       "4       09-09-13\n",
       "          ...   \n",
       "5778    10-07-18\n",
       "5779    04-08-18\n",
       "5780    28-09-18\n",
       "5781    29-10-18\n",
       "5782    06-11-18\n",
       "Name: date_parsed, Length: 5783, dtype: object"
      ]
     },
     "execution_count": 11,
     "metadata": {},
     "output_type": "execute_result"
    }
   ],
   "source": [
    "df[\"date_parsed\"] = df.date.replace(to_replace = look_up, regex=True)\n",
    "\n",
    "df.date_parsed.str.lstrip().str.rstrip()\n",
    "df.date_parsed\n",
    "\n",
    "# As shown below initial year is 1908 (08) going to 2018 (18)\n"
   ]
  },
  {
   "cell_type": "code",
   "execution_count": 12,
   "id": "de61d963",
   "metadata": {
    "scrolled": true
   },
   "outputs": [
    {
     "data": {
      "text/plain": [
       "4898"
      ]
     },
     "execution_count": 12,
     "metadata": {},
     "output_type": "execute_result"
    }
   ],
   "source": [
    "idx = df.date_parsed[df.date_parsed.str.split(\"-\").str[-1] == \"00\"].index.min() #index that shows the beginning of 2000s\n",
    "idx"
   ]
  },
  {
   "cell_type": "code",
   "execution_count": 13,
   "id": "e26c7518",
   "metadata": {
    "scrolled": false
   },
   "outputs": [
    {
     "data": {
      "text/plain": [
       "0       17-09-08\n",
       "1       07-09-09\n",
       "2       12-07-12\n",
       "3       06-08-13\n",
       "4       09-09-13\n",
       "          ...   \n",
       "4893    22-12-99\n",
       "4894    24-12-99\n",
       "4895    25-12-99\n",
       "4896    25-12-99\n",
       "4897    29-12-99\n",
       "Name: date_parsed, Length: 4898, dtype: object"
      ]
     },
     "execution_count": 13,
     "metadata": {},
     "output_type": "execute_result"
    }
   ],
   "source": [
    "y19 = df.iloc[:idx, :].date_parsed\n",
    "y19"
   ]
  },
  {
   "cell_type": "code",
   "execution_count": 14,
   "id": "43861f63",
   "metadata": {},
   "outputs": [
    {
     "data": {
      "text/plain": [
       "0       17-09-1908\n",
       "1       07-09-1909\n",
       "2       12-07-1912\n",
       "3       06-08-1913\n",
       "4       09-09-1913\n",
       "           ...    \n",
       "4893    22-12-1999\n",
       "4894    24-12-1999\n",
       "4895    25-12-1999\n",
       "4896    25-12-1999\n",
       "4897    29-12-1999\n",
       "Name: date_parsed, Length: 4898, dtype: object"
      ]
     },
     "execution_count": 14,
     "metadata": {},
     "output_type": "execute_result"
    }
   ],
   "source": [
    "y19 = y19.str.split(\"-\").str[0] + \"-\" + y19.str.split(\"-\").str[1] + \"-\" + \"19\" + y19.str.split(\"-\").str[-1]\n",
    "y19"
   ]
  },
  {
   "cell_type": "code",
   "execution_count": 15,
   "id": "2ee13535",
   "metadata": {
    "scrolled": false
   },
   "outputs": [
    {
     "data": {
      "text/plain": [
       "4898    05-01-2000\n",
       "4899    10-01-2000\n",
       "4900    13-01-2000\n",
       "4901    15-01-2000\n",
       "4902    25-01-2000\n",
       "           ...    \n",
       "5778    10-07-2018\n",
       "5779    04-08-2018\n",
       "5780    28-09-2018\n",
       "5781    29-10-2018\n",
       "5782    06-11-2018\n",
       "Name: date_parsed, Length: 885, dtype: object"
      ]
     },
     "execution_count": 15,
     "metadata": {},
     "output_type": "execute_result"
    }
   ],
   "source": [
    "#finding the index for first occurance of 00 as year\n",
    "y20 = df.iloc[idx:, :].date_parsed\n",
    "y20 = y20.str.split(\"-\").str[0] + \"-\" + y20.str.split(\"-\").str[1] + \"-\" + \"20\" + y20.str.split(\"-\").str[-1]\n",
    "y20"
   ]
  },
  {
   "cell_type": "code",
   "execution_count": 16,
   "id": "10beb912",
   "metadata": {},
   "outputs": [
    {
     "data": {
      "text/plain": [
       "0      1908-09-17\n",
       "1      1909-09-07\n",
       "2      1912-07-12\n",
       "3      1913-08-06\n",
       "4      1913-09-09\n",
       "          ...    \n",
       "5778   2018-07-10\n",
       "5779   2018-08-04\n",
       "5780   2018-09-28\n",
       "5781   2018-10-29\n",
       "5782   2018-11-06\n",
       "Name: date_parsed, Length: 5783, dtype: datetime64[ns]"
      ]
     },
     "execution_count": 16,
     "metadata": {},
     "output_type": "execute_result"
    }
   ],
   "source": [
    "#appending and applying the changes back to actual dataframe\n",
    "df.date_parsed = y19.append(y20)\n",
    "df[\"date_parsed\"] = pd.to_datetime(df['date_parsed'], format = \"%d-%m-%Y\") #two-digit year is %y not %Y\n",
    "df[\"date_parsed\"]"
   ]
  },
  {
   "cell_type": "markdown",
   "id": "0d9ec25f",
   "metadata": {},
   "source": [
    "## 2. Time \n",
    "\n",
    "Some inputs are starting with random characters like 'c' or \":\". First step is to remove all non-numerical chars."
   ]
  },
  {
   "cell_type": "code",
   "execution_count": 17,
   "id": "2dd6f662",
   "metadata": {},
   "outputs": [
    {
     "data": {
      "text/plain": [
       "0         17:18\n",
       "1           NaN\n",
       "2          6:30\n",
       "3           NaN\n",
       "4       c 18:30\n",
       "         ...   \n",
       "5778        744\n",
       "5779       1655\n",
       "5780       1010\n",
       "5781        631\n",
       "5782        253\n",
       "Name: time, Length: 5783, dtype: object"
      ]
     },
     "execution_count": 17,
     "metadata": {},
     "output_type": "execute_result"
    }
   ],
   "source": [
    "df.time"
   ]
  },
  {
   "cell_type": "code",
   "execution_count": 18,
   "id": "9a233674",
   "metadata": {
    "scrolled": true
   },
   "outputs": [],
   "source": [
    "from string import ascii_letters\n",
    "\n",
    "df[\"time_parsed\"] = df[\"time\"].map(lambda x: x.lstrip(ascii_letters + \"c :\").rstrip(ascii_letters), na_action='ignore') #modified after \":17:00\" was found\n",
    "df[\"time_parsed\"] = df[\"time_parsed\"].map(lambda x: x.replace(\";\", \":\"), na_action='ignore') #modified after \"10;00\" was found\n",
    "df[\"time_parsed\"] = df[\"time_parsed\"].map(lambda x: x.replace('\"', \":\"), na_action='ignore') #modified after \"22\"08\" was found\n"
   ]
  },
  {
   "cell_type": "code",
   "execution_count": 19,
   "id": "1984526d",
   "metadata": {
    "scrolled": false
   },
   "outputs": [],
   "source": [
    "df.loc[~df.time.str.contains(\":\", na = True), \"time_parsed\"] = df.time[~df.time.str.contains(\":\", na = True)].map(\n",
    "    lambda s: s[0:-2] + \":\" + s[-2:] )"
   ]
  },
  {
   "cell_type": "code",
   "execution_count": 20,
   "id": "5853024d",
   "metadata": {
    "scrolled": true
   },
   "outputs": [
    {
     "data": {
      "text/plain": [
       "708      :2\n",
       "1462     :5\n",
       "5686    :50\n",
       "5718    :19\n",
       "5727    :20\n",
       "Name: time_parsed, dtype: object"
      ]
     },
     "metadata": {},
     "output_type": "display_data"
    }
   ],
   "source": [
    "#replace with nan\n",
    "display(df.time_parsed[df.time_parsed.map(lambda x: len(x), na_action='ignore') < 4])\n",
    "df.loc[df.time_parsed.map(lambda x: len(x), na_action='ignore') < 4, \"time_parsed\"] = np.nan"
   ]
  },
  {
   "cell_type": "code",
   "execution_count": 21,
   "id": "aa0676b7",
   "metadata": {
    "scrolled": true
   },
   "outputs": [],
   "source": [
    "#applying zero-padding otherwise pd.to_date will not work\n",
    "df[['hour', 'min']] = df['time_parsed'].str.split(':', 1, expand=True)\n",
    "df[\"hour\"]= df[\"hour\"].str.pad(2,fillchar='0')\n",
    "df[\"min\"]= df[\"min\"].str.pad(2,fillchar='0')"
   ]
  },
  {
   "cell_type": "code",
   "execution_count": 22,
   "id": "f481024c",
   "metadata": {},
   "outputs": [],
   "source": [
    "df[\"time_parsed\"] = df[\"hour\"] + \":\" + df[\"min\"]\n",
    "df.drop([\"hour\", \"min\"], axis = 1, inplace = True)"
   ]
  },
  {
   "cell_type": "code",
   "execution_count": 23,
   "id": "b274f422",
   "metadata": {
    "scrolled": true
   },
   "outputs": [
    {
     "data": {
      "text/html": [
       "<div>\n",
       "<style scoped>\n",
       "    .dataframe tbody tr th:only-of-type {\n",
       "        vertical-align: middle;\n",
       "    }\n",
       "\n",
       "    .dataframe tbody tr th {\n",
       "        vertical-align: top;\n",
       "    }\n",
       "\n",
       "    .dataframe thead th {\n",
       "        text-align: right;\n",
       "    }\n",
       "</style>\n",
       "<table border=\"1\" class=\"dataframe\">\n",
       "  <thead>\n",
       "    <tr style=\"text-align: right;\">\n",
       "      <th></th>\n",
       "      <th>time</th>\n",
       "      <th>time_parsed</th>\n",
       "    </tr>\n",
       "  </thead>\n",
       "  <tbody>\n",
       "    <tr>\n",
       "      <th>0</th>\n",
       "      <td>17:18</td>\n",
       "      <td>17:18</td>\n",
       "    </tr>\n",
       "    <tr>\n",
       "      <th>1</th>\n",
       "      <td>NaN</td>\n",
       "      <td>NaN</td>\n",
       "    </tr>\n",
       "    <tr>\n",
       "      <th>2</th>\n",
       "      <td>6:30</td>\n",
       "      <td>06:30</td>\n",
       "    </tr>\n",
       "    <tr>\n",
       "      <th>3</th>\n",
       "      <td>NaN</td>\n",
       "      <td>NaN</td>\n",
       "    </tr>\n",
       "    <tr>\n",
       "      <th>4</th>\n",
       "      <td>c 18:30</td>\n",
       "      <td>18:30</td>\n",
       "    </tr>\n",
       "    <tr>\n",
       "      <th>...</th>\n",
       "      <td>...</td>\n",
       "      <td>...</td>\n",
       "    </tr>\n",
       "    <tr>\n",
       "      <th>5778</th>\n",
       "      <td>744</td>\n",
       "      <td>07:44</td>\n",
       "    </tr>\n",
       "    <tr>\n",
       "      <th>5779</th>\n",
       "      <td>1655</td>\n",
       "      <td>16:55</td>\n",
       "    </tr>\n",
       "    <tr>\n",
       "      <th>5780</th>\n",
       "      <td>1010</td>\n",
       "      <td>10:10</td>\n",
       "    </tr>\n",
       "    <tr>\n",
       "      <th>5781</th>\n",
       "      <td>631</td>\n",
       "      <td>06:31</td>\n",
       "    </tr>\n",
       "    <tr>\n",
       "      <th>5782</th>\n",
       "      <td>253</td>\n",
       "      <td>02:53</td>\n",
       "    </tr>\n",
       "  </tbody>\n",
       "</table>\n",
       "<p>5783 rows × 2 columns</p>\n",
       "</div>"
      ],
      "text/plain": [
       "         time time_parsed\n",
       "0       17:18       17:18\n",
       "1         NaN         NaN\n",
       "2        6:30       06:30\n",
       "3         NaN         NaN\n",
       "4     c 18:30       18:30\n",
       "...       ...         ...\n",
       "5778      744       07:44\n",
       "5779     1655       16:55\n",
       "5780     1010       10:10\n",
       "5781      631       06:31\n",
       "5782      253       02:53\n",
       "\n",
       "[5783 rows x 2 columns]"
      ]
     },
     "execution_count": 23,
     "metadata": {},
     "output_type": "execute_result"
    }
   ],
   "source": [
    "df[[\"time\", \"time_parsed\"]]"
   ]
  },
  {
   "cell_type": "code",
   "execution_count": 24,
   "id": "4dea348c",
   "metadata": {},
   "outputs": [],
   "source": [
    "###################################################"
   ]
  },
  {
   "cell_type": "code",
   "execution_count": 25,
   "id": "5829b10f",
   "metadata": {},
   "outputs": [
    {
     "data": {
      "text/html": [
       "<div>\n",
       "<style scoped>\n",
       "    .dataframe tbody tr th:only-of-type {\n",
       "        vertical-align: middle;\n",
       "    }\n",
       "\n",
       "    .dataframe tbody tr th {\n",
       "        vertical-align: top;\n",
       "    }\n",
       "\n",
       "    .dataframe thead th {\n",
       "        text-align: right;\n",
       "    }\n",
       "</style>\n",
       "<table border=\"1\" class=\"dataframe\">\n",
       "  <thead>\n",
       "    <tr style=\"text-align: right;\">\n",
       "      <th></th>\n",
       "      <th>date_parsed</th>\n",
       "      <th>time_parsed</th>\n",
       "    </tr>\n",
       "  </thead>\n",
       "  <tbody>\n",
       "    <tr>\n",
       "      <th>0</th>\n",
       "      <td>1908-09-17</td>\n",
       "      <td>17:18</td>\n",
       "    </tr>\n",
       "    <tr>\n",
       "      <th>1</th>\n",
       "      <td>1909-09-07</td>\n",
       "      <td>NaN</td>\n",
       "    </tr>\n",
       "    <tr>\n",
       "      <th>2</th>\n",
       "      <td>1912-07-12</td>\n",
       "      <td>06:30</td>\n",
       "    </tr>\n",
       "    <tr>\n",
       "      <th>3</th>\n",
       "      <td>1913-08-06</td>\n",
       "      <td>NaN</td>\n",
       "    </tr>\n",
       "    <tr>\n",
       "      <th>4</th>\n",
       "      <td>1913-09-09</td>\n",
       "      <td>18:30</td>\n",
       "    </tr>\n",
       "    <tr>\n",
       "      <th>...</th>\n",
       "      <td>...</td>\n",
       "      <td>...</td>\n",
       "    </tr>\n",
       "    <tr>\n",
       "      <th>5778</th>\n",
       "      <td>2018-07-10</td>\n",
       "      <td>07:44</td>\n",
       "    </tr>\n",
       "    <tr>\n",
       "      <th>5779</th>\n",
       "      <td>2018-08-04</td>\n",
       "      <td>16:55</td>\n",
       "    </tr>\n",
       "    <tr>\n",
       "      <th>5780</th>\n",
       "      <td>2018-09-28</td>\n",
       "      <td>10:10</td>\n",
       "    </tr>\n",
       "    <tr>\n",
       "      <th>5781</th>\n",
       "      <td>2018-10-29</td>\n",
       "      <td>06:31</td>\n",
       "    </tr>\n",
       "    <tr>\n",
       "      <th>5782</th>\n",
       "      <td>2018-11-06</td>\n",
       "      <td>02:53</td>\n",
       "    </tr>\n",
       "  </tbody>\n",
       "</table>\n",
       "<p>5783 rows × 2 columns</p>\n",
       "</div>"
      ],
      "text/plain": [
       "     date_parsed time_parsed\n",
       "0     1908-09-17       17:18\n",
       "1     1909-09-07         NaN\n",
       "2     1912-07-12       06:30\n",
       "3     1913-08-06         NaN\n",
       "4     1913-09-09       18:30\n",
       "...          ...         ...\n",
       "5778  2018-07-10       07:44\n",
       "5779  2018-08-04       16:55\n",
       "5780  2018-09-28       10:10\n",
       "5781  2018-10-29       06:31\n",
       "5782  2018-11-06       02:53\n",
       "\n",
       "[5783 rows x 2 columns]"
      ]
     },
     "execution_count": 25,
     "metadata": {},
     "output_type": "execute_result"
    }
   ],
   "source": [
    "# I will not parse them to a single date-time as the time column contains NA values\n",
    "df[[\"date_parsed\", \"time_parsed\"]]"
   ]
  },
  {
   "cell_type": "code",
   "execution_count": 26,
   "id": "76865455",
   "metadata": {
    "scrolled": true
   },
   "outputs": [],
   "source": [
    "#now the time variable is ready to be changed to time-type\n",
    "df.time_parsed.value_counts()\n",
    "df[\"time_parsed\"] = pd.to_datetime(df['time_parsed'], errors = \"coerce\", format = \"%H:%M\") #for NAs\n"
   ]
  },
  {
   "cell_type": "code",
   "execution_count": 27,
   "id": "36d7f2f4",
   "metadata": {
    "scrolled": false
   },
   "outputs": [
    {
     "name": "stdout",
     "output_type": "stream",
     "text": [
      "<class 'pandas.core.frame.DataFrame'>\n",
      "RangeIndex: 5783 entries, 0 to 5782\n",
      "Data columns (total 15 columns):\n",
      " #   Column        Non-Null Count  Dtype         \n",
      "---  ------        --------------  -----         \n",
      " 0   date          5783 non-null   object        \n",
      " 1   time          3675 non-null   object        \n",
      " 2   location      5777 non-null   object        \n",
      " 3   operator      5762 non-null   object        \n",
      " 4   flight_no     1347 non-null   object        \n",
      " 5   route         4289 non-null   object        \n",
      " 6   ac_type       5759 non-null   object        \n",
      " 7   registration  5431 non-null   object        \n",
      " 8   cn_ln         4576 non-null   object        \n",
      " 9   aboard        5783 non-null   object        \n",
      " 10  fatalities    5783 non-null   object        \n",
      " 11  ground        5731 non-null   object        \n",
      " 12  summary       5552 non-null   object        \n",
      " 13  date_parsed   5783 non-null   datetime64[ns]\n",
      " 14  time_parsed   3656 non-null   datetime64[ns]\n",
      "dtypes: datetime64[ns](2), object(13)\n",
      "memory usage: 677.8+ KB\n"
     ]
    }
   ],
   "source": [
    "df.info()"
   ]
  },
  {
   "cell_type": "markdown",
   "id": "17b658db",
   "metadata": {},
   "source": [
    "## Missing value analysis\n",
    "\n",
    "> time, route, cn_ln contain the most missing valus"
   ]
  },
  {
   "cell_type": "code",
   "execution_count": 28,
   "id": "3eac830c",
   "metadata": {
    "scrolled": true
   },
   "outputs": [
    {
     "data": {
      "text/plain": [
       "date             0.00\n",
       "time            36.45\n",
       "location         0.10\n",
       "operator         0.36\n",
       "flight_no       76.71\n",
       "route           25.83\n",
       "ac_type          0.42\n",
       "registration     6.09\n",
       "cn_ln           20.87\n",
       "aboard           0.00\n",
       "fatalities       0.00\n",
       "ground           0.90\n",
       "summary          3.99\n",
       "date_parsed      0.00\n",
       "time_parsed     36.78\n",
       "dtype: float64"
      ]
     },
     "execution_count": 28,
     "metadata": {},
     "output_type": "execute_result"
    }
   ],
   "source": [
    "round(df.isna().sum() / df.shape[0] * 100, 2)"
   ]
  },
  {
   "cell_type": "markdown",
   "id": "b685c791",
   "metadata": {},
   "source": [
    "## 3. Location"
   ]
  },
  {
   "cell_type": "code",
   "execution_count": 29,
   "id": "4f08453b",
   "metadata": {},
   "outputs": [
    {
     "data": {
      "text/plain": [
       "0                      Fort Myer, Virginia\n",
       "1                  Juvisy-sur-Orge, France\n",
       "2                Atlantic City, New Jersey\n",
       "3       Victoria, British Columbia, Canada\n",
       "4                       Over the North Sea\n",
       "                       ...                \n",
       "5778                Pretoria, South Africa\n",
       "5779                    Flims, Switzerland\n",
       "5780                     Chuuk, Micronesia\n",
       "5781                Off Jakarta, Indonesia\n",
       "5782                    Georgetown, Guyana\n",
       "Name: location, Length: 5783, dtype: object"
      ]
     },
     "execution_count": 29,
     "metadata": {},
     "output_type": "execute_result"
    }
   ],
   "source": [
    "df.location"
   ]
  },
  {
   "cell_type": "code",
   "execution_count": 30,
   "id": "82cab99e",
   "metadata": {
    "scrolled": true
   },
   "outputs": [
    {
     "data": {
      "text/plain": [
       "0                 Virginia\n",
       "1                   France\n",
       "2               New Jersey\n",
       "3                   Canada\n",
       "4       Over the North Sea\n",
       "               ...        \n",
       "5778          South Africa\n",
       "5779           Switzerland\n",
       "5780            Micronesia\n",
       "5781             Indonesia\n",
       "5782                Guyana\n",
       "Name: location, Length: 5783, dtype: object"
      ]
     },
     "execution_count": 30,
     "metadata": {},
     "output_type": "execute_result"
    }
   ],
   "source": [
    "df.location.str.split(\", \").str[-1]"
   ]
  },
  {
   "cell_type": "code",
   "execution_count": 31,
   "id": "81fb2f35",
   "metadata": {},
   "outputs": [
    {
     "data": {
      "text/plain": [
       "55"
      ]
     },
     "execution_count": 31,
     "metadata": {},
     "output_type": "execute_result"
    }
   ],
   "source": [
    "# It seems it shows country name for the majority of observations\n",
    "# however US flights contain state name\n",
    "# therefore I import a package that lists all the states\n",
    "import us\n",
    "state_names = [state.name for state in us.states.STATES_AND_TERRITORIES]\n",
    "len(state_names) # apparently there is 55 US states now!"
   ]
  },
  {
   "cell_type": "code",
   "execution_count": 32,
   "id": "6236e81f",
   "metadata": {
    "scrolled": true
   },
   "outputs": [
    {
     "data": {
      "text/plain": [
       "0                      USA\n",
       "1                   France\n",
       "2                      USA\n",
       "3                   Canada\n",
       "4       Over the North Sea\n",
       "               ...        \n",
       "5778          South Africa\n",
       "5779           Switzerland\n",
       "5780            Micronesia\n",
       "5781             Indonesia\n",
       "5782                Guyana\n",
       "Name: loc_cln, Length: 5783, dtype: object"
      ]
     },
     "execution_count": 32,
     "metadata": {},
     "output_type": "execute_result"
    }
   ],
   "source": [
    "df[\"loc_cln\"] = df.location.str.split(\", \").str[-1].str.rstrip().str.lstrip()\n",
    "df.loc_cln = df.loc_cln.replace(to_replace = state_names, value = \"USA\")\n",
    "df.loc_cln"
   ]
  },
  {
   "cell_type": "code",
   "execution_count": 33,
   "id": "9b296d59",
   "metadata": {},
   "outputs": [
    {
     "data": {
      "text/plain": [
       "USA                                    1478\n",
       "Russia                                  261\n",
       "Brazil                                  202\n",
       "Colombia                                163\n",
       "Canada                                  159\n",
       "                                       ... \n",
       "Louisana                                  1\n",
       "London                                    1\n",
       "Lesotho                                   1\n",
       "Leeward Islands                           1\n",
       "off the Philippine island of Elalat       1\n",
       "Name: loc_cln, Length: 500, dtype: int64"
      ]
     },
     "execution_count": 33,
     "metadata": {},
     "output_type": "execute_result"
    }
   ],
   "source": [
    "df.loc_cln = df.loc_cln.astype('category')\n",
    "df.loc_cln.value_counts()\n",
    "#There is still many work here, but we will keep it at that"
   ]
  },
  {
   "cell_type": "markdown",
   "id": "681ae911",
   "metadata": {},
   "source": [
    "## 4. Operator\n",
    "\n",
    "Airline or operator of the aircraft"
   ]
  },
  {
   "cell_type": "code",
   "execution_count": 34,
   "id": "9bbf722d",
   "metadata": {
    "scrolled": false
   },
   "outputs": [
    {
     "data": {
      "text/plain": [
       "0         Military - U.S. Army\n",
       "1                          NaN\n",
       "2         Military - U.S. Navy\n",
       "3                      Private\n",
       "4       Military - German Navy\n",
       "                 ...          \n",
       "5778                 Rovos Air\n",
       "5779                    Ju Air\n",
       "5780               Air Niugini\n",
       "5781                  Lion Air\n",
       "5782       Fly Jamaica Airways\n",
       "Name: operator, Length: 5783, dtype: object"
      ]
     },
     "execution_count": 34,
     "metadata": {},
     "output_type": "execute_result"
    }
   ],
   "source": [
    "df[\"operator\"]"
   ]
  },
  {
   "cell_type": "code",
   "execution_count": 35,
   "id": "2a58e33f",
   "metadata": {},
   "outputs": [
    {
     "data": {
      "text/plain": [
       "21"
      ]
     },
     "execution_count": 35,
     "metadata": {},
     "output_type": "execute_result"
    }
   ],
   "source": [
    "df.operator.isna().sum()"
   ]
  },
  {
   "cell_type": "code",
   "execution_count": 36,
   "id": "e32481bd",
   "metadata": {},
   "outputs": [],
   "source": [
    "df[\"military_flag\"] = df.operator.str.contains(\"Military\", case = False)"
   ]
  },
  {
   "cell_type": "code",
   "execution_count": 37,
   "id": "92a87dd2",
   "metadata": {},
   "outputs": [
    {
     "data": {
      "text/plain": [
       "832"
      ]
     },
     "execution_count": 37,
     "metadata": {},
     "output_type": "execute_result"
    }
   ],
   "source": [
    "df.military_flag.sum()"
   ]
  },
  {
   "cell_type": "code",
   "execution_count": 38,
   "id": "1d208d7f",
   "metadata": {
    "scrolled": true
   },
   "outputs": [
    {
     "data": {
      "text/plain": [
       "Aeroflot                               260\n",
       "Air France                              72\n",
       "Deutsche Lufthansa                      64\n",
       "United Air Lines                        44\n",
       "China National Aviation Corporation     43\n",
       "                                      ... \n",
       "Kodiak Western Alaska Airlines           1\n",
       "Mercer Airlines                          1\n",
       "Falcon Airways - Air Taxi                1\n",
       "Frigorifico Maniqui                      1\n",
       "Fly Jamaica Airways                      1\n",
       "Name: operator, Length: 2587, dtype: int64"
      ]
     },
     "execution_count": 38,
     "metadata": {},
     "output_type": "execute_result"
    }
   ],
   "source": [
    "pd.set_option('display.max_rows', 500)\n",
    "df[[\"operator\", \"military_flag\"]].loc[df[\"military_flag\"] == False,:].operator.value_counts()"
   ]
  },
  {
   "cell_type": "code",
   "execution_count": 39,
   "id": "c14439d3",
   "metadata": {},
   "outputs": [],
   "source": [
    "df.drop(\"flight_no\", axis = 1, inplace=True) #contains no usable info, lots of missing too"
   ]
  },
  {
   "cell_type": "markdown",
   "id": "db3e9cf2",
   "metadata": {},
   "source": [
    "## Route"
   ]
  },
  {
   "cell_type": "code",
   "execution_count": 40,
   "id": "04f841c3",
   "metadata": {
    "scrolled": false
   },
   "outputs": [
    {
     "data": {
      "text/plain": [
       "Training                               95\n",
       "Sightseeing                            42\n",
       "Test flight                            20\n",
       "Test                                    7\n",
       "Sao Paulo - Rio de Janeiro              7\n",
       "                                       ..\n",
       "Mount Isa - Longreach                   1\n",
       "Eugene - Portland                       1\n",
       "Osaka - Matsuyama                       1\n",
       "Mukalla to\\nMayfa'ah - Arden, Yemen     1\n",
       "Georgetown - Toronto                    1\n",
       "Name: route, Length: 3874, dtype: int64"
      ]
     },
     "execution_count": 40,
     "metadata": {},
     "output_type": "execute_result"
    }
   ],
   "source": [
    "pd.set_option('display.max_rows', 100)\n",
    "df.route.value_counts()"
   ]
  },
  {
   "cell_type": "markdown",
   "id": "ea899041",
   "metadata": {},
   "source": [
    "## Aircraft Type"
   ]
  },
  {
   "cell_type": "code",
   "execution_count": 41,
   "id": "4743d1a8",
   "metadata": {
    "scrolled": true
   },
   "outputs": [
    {
     "data": {
      "text/plain": [
       "Douglas DC-3                                341\n",
       "de Havilland Canada DHC-6 Twin Otter 300     86\n",
       "Douglas C-47A                                74\n",
       "Douglas C-47                                 67\n",
       "Douglas DC-4                                 41\n",
       "                                           ... \n",
       "Tupolev TU-114B                               1\n",
       "PBY-5A Catalina                               1\n",
       "Consolidated  PBY-5A Catalina                 1\n",
       "Boeing 727-21                                 1\n",
       "Boeing 757-N23                                1\n",
       "Name: ac_type, Length: 2741, dtype: int64"
      ]
     },
     "execution_count": 41,
     "metadata": {},
     "output_type": "execute_result"
    }
   ],
   "source": [
    "pd.set_option(\"display.max_rows\", 100)\n",
    "df.ac_type.value_counts()"
   ]
  },
  {
   "cell_type": "code",
   "execution_count": 42,
   "id": "acfb1bbb",
   "metadata": {},
   "outputs": [
    {
     "data": {
      "text/plain": [
       "0.1988587238457548"
      ]
     },
     "execution_count": 42,
     "metadata": {},
     "output_type": "execute_result"
    }
   ],
   "source": [
    "### Lot's of Douglas\n",
    "df.ac_type.str.contains(\"douglas\", case=False).sum() / df.shape[0]\n"
   ]
  },
  {
   "cell_type": "markdown",
   "id": "b52e73ea",
   "metadata": {},
   "source": [
    "That is around 20 percent of accidents, The majority being a __Douglas DC-3__ plane."
   ]
  },
  {
   "cell_type": "code",
   "execution_count": 43,
   "id": "f293a101",
   "metadata": {
    "scrolled": true
   },
   "outputs": [
    {
     "name": "stdout",
     "output_type": "stream",
     "text": [
      "douglas: 1150 and total percentage 19.89\n",
      "boeing: 410 and total percentage 7.09\n",
      "tupolev: 110 and total percentage 1.9\n"
     ]
    }
   ],
   "source": [
    "for ac_type in [\"douglas\", \"boeing\", \"tupolev\"]:\n",
    "    x = df.ac_type.str.contains(ac_type, case = False).sum()\n",
    "    print(ac_type + \": \" + str(x) + \" and total percentage \" + str(round(x / df.shape[0] * 100, 2)))\n",
    "##not much information here"
   ]
  },
  {
   "cell_type": "markdown",
   "id": "62ae8761",
   "metadata": {},
   "source": [
    "## Registration: ICAO registration of the aircraft\n",
    "\n",
    "Not much information here"
   ]
  },
  {
   "cell_type": "code",
   "execution_count": 44,
   "id": "141048c1",
   "metadata": {
    "scrolled": true
   },
   "outputs": [
    {
     "data": {
      "text/plain": [
       "49            3\n",
       "CCCP-11180    2\n",
       "CCCP-87458    2\n",
       "PT-EPH        2\n",
       "N303GA        2\n",
       "             ..\n",
       "TF-ISU        1\n",
       "CCCP-75866    1\n",
       "I-TAVI        1\n",
       "SA-R-7        1\n",
       "N524AT        1\n",
       "Name: registration, Length: 5391, dtype: int64"
      ]
     },
     "execution_count": 44,
     "metadata": {},
     "output_type": "execute_result"
    }
   ],
   "source": [
    "pd.set_option(\"display.max_rows\", 50)\n",
    "df.registration.value_counts()"
   ]
  },
  {
   "cell_type": "markdown",
   "id": "a15a9d9a",
   "metadata": {},
   "source": [
    "## Construction or serial number / Line or fuselage number\n",
    "\n",
    "No info here as well."
   ]
  },
  {
   "cell_type": "code",
   "execution_count": 45,
   "id": "2e6fcf42",
   "metadata": {
    "scrolled": true
   },
   "outputs": [
    {
     "data": {
      "text/plain": [
       "1            10\n",
       "6             8\n",
       "3             7\n",
       "4             7\n",
       "229           7\n",
       "             ..\n",
       "30            1\n",
       "6341801       1\n",
       "45409/19      1\n",
       "3065          1\n",
       "30233/895     1\n",
       "Name: cn_ln, Length: 4069, dtype: int64"
      ]
     },
     "execution_count": 45,
     "metadata": {},
     "output_type": "execute_result"
    }
   ],
   "source": [
    "df.cn_ln.value_counts()"
   ]
  },
  {
   "cell_type": "markdown",
   "id": "163a1997",
   "metadata": {},
   "source": [
    "## Passengers and Crew numbers"
   ]
  },
  {
   "cell_type": "code",
   "execution_count": 46,
   "id": "46a50223",
   "metadata": {
    "scrolled": false
   },
   "outputs": [
    {
     "data": {
      "text/plain": [
       "0           2   (passengers:1  crew:1)\n",
       "1           1   (passengers:0  crew:1)\n",
       "2           5   (passengers:0  crew:5)\n",
       "3           1   (passengers:0  crew:1)\n",
       "4          20   (passengers:?  crew:?)\n",
       "                     ...              \n",
       "5778      19   (passengers:16  crew:3)\n",
       "5779      20   (passengers:17  crew:3)\n",
       "5780     47   (passengers:35  crew:12)\n",
       "5781    189   (passengers:181  crew:8)\n",
       "5782    128   (passengers:120  crew:8)\n",
       "Name: aboard, Length: 5783, dtype: object"
      ]
     },
     "execution_count": 46,
     "metadata": {},
     "output_type": "execute_result"
    }
   ],
   "source": [
    "df.aboard"
   ]
  },
  {
   "cell_type": "code",
   "execution_count": 47,
   "id": "210a4425",
   "metadata": {
    "scrolled": true
   },
   "outputs": [],
   "source": [
    "tot = df.aboard.str.split(\"(\",1).str[0].str.rstrip().str.lstrip() #also removing any spaces"
   ]
  },
  {
   "cell_type": "code",
   "execution_count": 48,
   "id": "2bd72b62",
   "metadata": {},
   "outputs": [
    {
     "data": {
      "text/plain": [
       "40"
      ]
     },
     "execution_count": 48,
     "metadata": {},
     "output_type": "execute_result"
    }
   ],
   "source": [
    "#checking if all values are numeric\n",
    "pd.to_numeric(tot, errors = \"coerce\").isna().sum()\n",
    "\n",
    "#some are non numerical, let's take a closer look in the next cell"
   ]
  },
  {
   "cell_type": "code",
   "execution_count": 49,
   "id": "beef457d",
   "metadata": {
    "scrolled": true
   },
   "outputs": [
    {
     "data": {
      "text/html": [
       "<div>\n",
       "<style scoped>\n",
       "    .dataframe tbody tr th:only-of-type {\n",
       "        vertical-align: middle;\n",
       "    }\n",
       "\n",
       "    .dataframe tbody tr th {\n",
       "        vertical-align: top;\n",
       "    }\n",
       "\n",
       "    .dataframe thead th {\n",
       "        text-align: right;\n",
       "    }\n",
       "</style>\n",
       "<table border=\"1\" class=\"dataframe\">\n",
       "  <thead>\n",
       "    <tr style=\"text-align: right;\">\n",
       "      <th></th>\n",
       "      <th>aboard</th>\n",
       "      <th>tot_aboard</th>\n",
       "    </tr>\n",
       "  </thead>\n",
       "  <tbody>\n",
       "    <tr>\n",
       "      <th>101</th>\n",
       "      <td>?   (passengers:?  crew:?)</td>\n",
       "      <td>?</td>\n",
       "    </tr>\n",
       "    <tr>\n",
       "      <th>345</th>\n",
       "      <td>?   (passengers:?  crew:?)</td>\n",
       "      <td>?</td>\n",
       "    </tr>\n",
       "    <tr>\n",
       "      <th>361</th>\n",
       "      <td>?   (passengers:?  crew:?)</td>\n",
       "      <td>?</td>\n",
       "    </tr>\n",
       "    <tr>\n",
       "      <th>377</th>\n",
       "      <td>?   (passengers:?  crew:?)</td>\n",
       "      <td>?</td>\n",
       "    </tr>\n",
       "    <tr>\n",
       "      <th>440</th>\n",
       "      <td>?   (passengers:?  crew:?)</td>\n",
       "      <td>?</td>\n",
       "    </tr>\n",
       "  </tbody>\n",
       "</table>\n",
       "</div>"
      ],
      "text/plain": [
       "                         aboard tot_aboard\n",
       "101  ?   (passengers:?  crew:?)          ?\n",
       "345  ?   (passengers:?  crew:?)          ?\n",
       "361  ?   (passengers:?  crew:?)          ?\n",
       "377  ?   (passengers:?  crew:?)          ?\n",
       "440  ?   (passengers:?  crew:?)          ?"
      ]
     },
     "execution_count": 49,
     "metadata": {},
     "output_type": "execute_result"
    }
   ],
   "source": [
    "df[\"tot_aboard\"] = df.aboard.str.split(\"(\",1).str[0].str.rstrip().str.lstrip()\n",
    "\n",
    "df.loc[pd.to_numeric(df.tot_aboard, errors = \"coerce\").isna(), [\"aboard\", \"tot_aboard\"]].head()"
   ]
  },
  {
   "cell_type": "code",
   "execution_count": 50,
   "id": "e644e09c",
   "metadata": {},
   "outputs": [],
   "source": [
    "#now that we know where the problem is, we'll replace those rows with NaN.\n",
    "df.loc[pd.to_numeric(df.tot_aboard, errors = \"coerce\").isna(), [\"aboard\", \"tot_aboard\"]] = np.nan #this is an example of __"
   ]
  },
  {
   "cell_type": "code",
   "execution_count": 51,
   "id": "0c308989",
   "metadata": {},
   "outputs": [],
   "source": [
    "#display(df.loc[pd.to_numeric(df.tot_aboard, errors = \"coerce\").isna(), [\"aboard\", \"tot_aboard\"]])\n",
    "df.tot_aboard = pd.to_numeric(df.tot_aboard, errors = \"coerce\")"
   ]
  },
  {
   "cell_type": "code",
   "execution_count": 52,
   "id": "a8038bb4",
   "metadata": {},
   "outputs": [],
   "source": [
    "#Now let's create two more columns for passengers and crew count\n",
    "\n",
    "df[\"tot_crew\"] = df.aboard.str.split(\":\").str[-1].str.replace(\")\", \"\", regex = False).str.lstrip().str.rstrip()\n",
    "df[\"tot_crew\"] = pd.to_numeric(df.tot_crew, errors = \"coerce\") #"
   ]
  },
  {
   "cell_type": "code",
   "execution_count": 53,
   "id": "5e1b4e46",
   "metadata": {
    "scrolled": true
   },
   "outputs": [],
   "source": [
    "df[\"tot_pass\"] = pd.to_numeric(\n",
    "    df.aboard.str.split(\"\\(passengers:\").str[1].str.split(\"crew\").str[0].str.lstrip().str.rstrip(),\n",
    "    errors = \"coerce\")"
   ]
  },
  {
   "cell_type": "markdown",
   "id": "bb9eee5b",
   "metadata": {},
   "source": [
    "#### Checking the dervied totals"
   ]
  },
  {
   "cell_type": "code",
   "execution_count": 54,
   "id": "d7ec5454",
   "metadata": {
    "scrolled": true
   },
   "outputs": [
    {
     "data": {
      "text/html": [
       "<div>\n",
       "<style scoped>\n",
       "    .dataframe tbody tr th:only-of-type {\n",
       "        vertical-align: middle;\n",
       "    }\n",
       "\n",
       "    .dataframe tbody tr th {\n",
       "        vertical-align: top;\n",
       "    }\n",
       "\n",
       "    .dataframe thead th {\n",
       "        text-align: right;\n",
       "    }\n",
       "</style>\n",
       "<table border=\"1\" class=\"dataframe\">\n",
       "  <thead>\n",
       "    <tr style=\"text-align: right;\">\n",
       "      <th></th>\n",
       "      <th>aboard</th>\n",
       "      <th>tot_aboard</th>\n",
       "      <th>tot_pass</th>\n",
       "      <th>tot_crew</th>\n",
       "    </tr>\n",
       "  </thead>\n",
       "  <tbody>\n",
       "    <tr>\n",
       "      <th>0</th>\n",
       "      <td>2   (passengers:1  crew:1)</td>\n",
       "      <td>2.0</td>\n",
       "      <td>1.0</td>\n",
       "      <td>1.0</td>\n",
       "    </tr>\n",
       "    <tr>\n",
       "      <th>1</th>\n",
       "      <td>1   (passengers:0  crew:1)</td>\n",
       "      <td>1.0</td>\n",
       "      <td>0.0</td>\n",
       "      <td>1.0</td>\n",
       "    </tr>\n",
       "    <tr>\n",
       "      <th>2</th>\n",
       "      <td>5   (passengers:0  crew:5)</td>\n",
       "      <td>5.0</td>\n",
       "      <td>0.0</td>\n",
       "      <td>5.0</td>\n",
       "    </tr>\n",
       "    <tr>\n",
       "      <th>3</th>\n",
       "      <td>1   (passengers:0  crew:1)</td>\n",
       "      <td>1.0</td>\n",
       "      <td>0.0</td>\n",
       "      <td>1.0</td>\n",
       "    </tr>\n",
       "    <tr>\n",
       "      <th>4</th>\n",
       "      <td>20   (passengers:?  crew:?)</td>\n",
       "      <td>20.0</td>\n",
       "      <td>NaN</td>\n",
       "      <td>NaN</td>\n",
       "    </tr>\n",
       "    <tr>\n",
       "      <th>...</th>\n",
       "      <td>...</td>\n",
       "      <td>...</td>\n",
       "      <td>...</td>\n",
       "      <td>...</td>\n",
       "    </tr>\n",
       "    <tr>\n",
       "      <th>5778</th>\n",
       "      <td>19   (passengers:16  crew:3)</td>\n",
       "      <td>19.0</td>\n",
       "      <td>16.0</td>\n",
       "      <td>3.0</td>\n",
       "    </tr>\n",
       "    <tr>\n",
       "      <th>5779</th>\n",
       "      <td>20   (passengers:17  crew:3)</td>\n",
       "      <td>20.0</td>\n",
       "      <td>17.0</td>\n",
       "      <td>3.0</td>\n",
       "    </tr>\n",
       "    <tr>\n",
       "      <th>5780</th>\n",
       "      <td>47   (passengers:35  crew:12)</td>\n",
       "      <td>47.0</td>\n",
       "      <td>35.0</td>\n",
       "      <td>12.0</td>\n",
       "    </tr>\n",
       "    <tr>\n",
       "      <th>5781</th>\n",
       "      <td>189   (passengers:181  crew:8)</td>\n",
       "      <td>189.0</td>\n",
       "      <td>181.0</td>\n",
       "      <td>8.0</td>\n",
       "    </tr>\n",
       "    <tr>\n",
       "      <th>5782</th>\n",
       "      <td>128   (passengers:120  crew:8)</td>\n",
       "      <td>128.0</td>\n",
       "      <td>120.0</td>\n",
       "      <td>8.0</td>\n",
       "    </tr>\n",
       "  </tbody>\n",
       "</table>\n",
       "<p>5783 rows × 4 columns</p>\n",
       "</div>"
      ],
      "text/plain": [
       "                              aboard  tot_aboard  tot_pass  tot_crew\n",
       "0         2   (passengers:1  crew:1)         2.0       1.0       1.0\n",
       "1         1   (passengers:0  crew:1)         1.0       0.0       1.0\n",
       "2         5   (passengers:0  crew:5)         5.0       0.0       5.0\n",
       "3         1   (passengers:0  crew:1)         1.0       0.0       1.0\n",
       "4        20   (passengers:?  crew:?)        20.0       NaN       NaN\n",
       "...                              ...         ...       ...       ...\n",
       "5778    19   (passengers:16  crew:3)        19.0      16.0       3.0\n",
       "5779    20   (passengers:17  crew:3)        20.0      17.0       3.0\n",
       "5780   47   (passengers:35  crew:12)        47.0      35.0      12.0\n",
       "5781  189   (passengers:181  crew:8)       189.0     181.0       8.0\n",
       "5782  128   (passengers:120  crew:8)       128.0     120.0       8.0\n",
       "\n",
       "[5783 rows x 4 columns]"
      ]
     },
     "metadata": {},
     "output_type": "display_data"
    },
    {
     "data": {
      "text/plain": [
       "aboard         40\n",
       "tot_aboard     40\n",
       "tot_pass      543\n",
       "tot_crew      539\n",
       "dtype: int64"
      ]
     },
     "metadata": {},
     "output_type": "display_data"
    }
   ],
   "source": [
    "display(df.loc[:, [\"aboard\", \"tot_aboard\", \"tot_pass\", \"tot_crew\"]])\n",
    "display(df.loc[:, [\"aboard\", \"tot_aboard\", \"tot_pass\", \"tot_crew\"]].isnull().sum()) #missing values does make sense"
   ]
  },
  {
   "cell_type": "code",
   "execution_count": 55,
   "id": "438f1e97",
   "metadata": {},
   "outputs": [
    {
     "name": "stdout",
     "output_type": "stream",
     "text": [
      "<class 'pandas.core.frame.DataFrame'>\n",
      "RangeIndex: 5783 entries, 0 to 5782\n",
      "Data columns (total 19 columns):\n",
      " #   Column         Non-Null Count  Dtype         \n",
      "---  ------         --------------  -----         \n",
      " 0   date           5783 non-null   object        \n",
      " 1   time           3675 non-null   object        \n",
      " 2   location       5777 non-null   object        \n",
      " 3   operator       5762 non-null   object        \n",
      " 4   route          4289 non-null   object        \n",
      " 5   ac_type        5759 non-null   object        \n",
      " 6   registration   5431 non-null   object        \n",
      " 7   cn_ln          4576 non-null   object        \n",
      " 8   aboard         5743 non-null   object        \n",
      " 9   fatalities     5783 non-null   object        \n",
      " 10  ground         5731 non-null   object        \n",
      " 11  summary        5552 non-null   object        \n",
      " 12  date_parsed    5783 non-null   datetime64[ns]\n",
      " 13  time_parsed    3656 non-null   datetime64[ns]\n",
      " 14  loc_cln        5777 non-null   category      \n",
      " 15  military_flag  5762 non-null   object        \n",
      " 16  tot_aboard     5743 non-null   float64       \n",
      " 17  tot_crew       5244 non-null   float64       \n",
      " 18  tot_pass       5240 non-null   float64       \n",
      "dtypes: category(1), datetime64[ns](2), float64(3), object(13)\n",
      "memory usage: 844.7+ KB\n"
     ]
    }
   ],
   "source": [
    "df.info()"
   ]
  },
  {
   "cell_type": "markdown",
   "id": "bf0b27f8",
   "metadata": {},
   "source": [
    "## Fatalities number\n",
    "Has to be parsed "
   ]
  },
  {
   "cell_type": "code",
   "execution_count": 56,
   "id": "e3ac3adf",
   "metadata": {},
   "outputs": [
    {
     "data": {
      "text/plain": [
       "0           1   (passengers:1  crew:0)\n",
       "1           1   (passengers:0  crew:0)\n",
       "2           5   (passengers:0  crew:5)\n",
       "3           1   (passengers:0  crew:1)\n",
       "4          14   (passengers:?  crew:?)\n",
       "                     ...              \n",
       "5778        1   (passengers:0  crew:1)\n",
       "5779      20   (passengers:17  crew:3)\n",
       "5780        1   (passengers:1  crew:0)\n",
       "5781    189   (passengers:181  crew:8)\n",
       "5782        1   (passengers:1  crew:0)\n",
       "Name: fatalities, Length: 5783, dtype: object"
      ]
     },
     "execution_count": 56,
     "metadata": {},
     "output_type": "execute_result"
    }
   ],
   "source": [
    "df.fatalities"
   ]
  },
  {
   "cell_type": "code",
   "execution_count": 57,
   "id": "accb7a40",
   "metadata": {},
   "outputs": [],
   "source": [
    "df[\"tot_fatal\"] = df.fatalities.str.split(\"(\",1).str[0].str.rstrip().str.lstrip()\n",
    "df[\"tot_fatal\"] = pd.to_numeric(df.tot_fatal, errors = \"coerce\")"
   ]
  },
  {
   "cell_type": "code",
   "execution_count": 58,
   "id": "c4e2150a",
   "metadata": {},
   "outputs": [],
   "source": [
    "df[\"fatal_crew\"] = df.fatalities.str.split(\":\").str[-1].str.replace(\")\", \"\", regex = False).str.lstrip().str.rstrip()\n",
    "df[\"fatal_crew\"] = pd.to_numeric(df.fatal_crew, errors = \"coerce\") \n",
    "\n",
    "df[\"fatal_pass\"] = pd.to_numeric(\n",
    "    df.fatalities.str.split(\"\\(passengers:\").str[1].str.split(\"crew\").str[0].str.lstrip().str.rstrip(),\n",
    "    errors = \"coerce\")"
   ]
  },
  {
   "cell_type": "code",
   "execution_count": 59,
   "id": "63ffa1f2",
   "metadata": {
    "scrolled": false
   },
   "outputs": [
    {
     "data": {
      "text/html": [
       "<div>\n",
       "<style scoped>\n",
       "    .dataframe tbody tr th:only-of-type {\n",
       "        vertical-align: middle;\n",
       "    }\n",
       "\n",
       "    .dataframe tbody tr th {\n",
       "        vertical-align: top;\n",
       "    }\n",
       "\n",
       "    .dataframe thead th {\n",
       "        text-align: right;\n",
       "    }\n",
       "</style>\n",
       "<table border=\"1\" class=\"dataframe\">\n",
       "  <thead>\n",
       "    <tr style=\"text-align: right;\">\n",
       "      <th></th>\n",
       "      <th>fatalities</th>\n",
       "      <th>tot_fatal</th>\n",
       "      <th>fatal_crew</th>\n",
       "      <th>fatal_pass</th>\n",
       "    </tr>\n",
       "  </thead>\n",
       "  <tbody>\n",
       "    <tr>\n",
       "      <th>0</th>\n",
       "      <td>1   (passengers:1  crew:0)</td>\n",
       "      <td>1.0</td>\n",
       "      <td>0.0</td>\n",
       "      <td>1.0</td>\n",
       "    </tr>\n",
       "    <tr>\n",
       "      <th>1</th>\n",
       "      <td>1   (passengers:0  crew:0)</td>\n",
       "      <td>1.0</td>\n",
       "      <td>0.0</td>\n",
       "      <td>0.0</td>\n",
       "    </tr>\n",
       "    <tr>\n",
       "      <th>2</th>\n",
       "      <td>5   (passengers:0  crew:5)</td>\n",
       "      <td>5.0</td>\n",
       "      <td>5.0</td>\n",
       "      <td>0.0</td>\n",
       "    </tr>\n",
       "    <tr>\n",
       "      <th>3</th>\n",
       "      <td>1   (passengers:0  crew:1)</td>\n",
       "      <td>1.0</td>\n",
       "      <td>1.0</td>\n",
       "      <td>0.0</td>\n",
       "    </tr>\n",
       "    <tr>\n",
       "      <th>4</th>\n",
       "      <td>14   (passengers:?  crew:?)</td>\n",
       "      <td>14.0</td>\n",
       "      <td>NaN</td>\n",
       "      <td>NaN</td>\n",
       "    </tr>\n",
       "    <tr>\n",
       "      <th>...</th>\n",
       "      <td>...</td>\n",
       "      <td>...</td>\n",
       "      <td>...</td>\n",
       "      <td>...</td>\n",
       "    </tr>\n",
       "    <tr>\n",
       "      <th>5778</th>\n",
       "      <td>1   (passengers:0  crew:1)</td>\n",
       "      <td>1.0</td>\n",
       "      <td>1.0</td>\n",
       "      <td>0.0</td>\n",
       "    </tr>\n",
       "    <tr>\n",
       "      <th>5779</th>\n",
       "      <td>20   (passengers:17  crew:3)</td>\n",
       "      <td>20.0</td>\n",
       "      <td>3.0</td>\n",
       "      <td>17.0</td>\n",
       "    </tr>\n",
       "    <tr>\n",
       "      <th>5780</th>\n",
       "      <td>1   (passengers:1  crew:0)</td>\n",
       "      <td>1.0</td>\n",
       "      <td>0.0</td>\n",
       "      <td>1.0</td>\n",
       "    </tr>\n",
       "    <tr>\n",
       "      <th>5781</th>\n",
       "      <td>189   (passengers:181  crew:8)</td>\n",
       "      <td>189.0</td>\n",
       "      <td>8.0</td>\n",
       "      <td>181.0</td>\n",
       "    </tr>\n",
       "    <tr>\n",
       "      <th>5782</th>\n",
       "      <td>1   (passengers:1  crew:0)</td>\n",
       "      <td>1.0</td>\n",
       "      <td>0.0</td>\n",
       "      <td>1.0</td>\n",
       "    </tr>\n",
       "  </tbody>\n",
       "</table>\n",
       "<p>5783 rows × 4 columns</p>\n",
       "</div>"
      ],
      "text/plain": [
       "                          fatalities  tot_fatal  fatal_crew  fatal_pass\n",
       "0         1   (passengers:1  crew:0)        1.0         0.0         1.0\n",
       "1         1   (passengers:0  crew:0)        1.0         0.0         0.0\n",
       "2         5   (passengers:0  crew:5)        5.0         5.0         0.0\n",
       "3         1   (passengers:0  crew:1)        1.0         1.0         0.0\n",
       "4        14   (passengers:?  crew:?)       14.0         NaN         NaN\n",
       "...                              ...        ...         ...         ...\n",
       "5778      1   (passengers:0  crew:1)        1.0         1.0         0.0\n",
       "5779    20   (passengers:17  crew:3)       20.0         3.0        17.0\n",
       "5780      1   (passengers:1  crew:0)        1.0         0.0         1.0\n",
       "5781  189   (passengers:181  crew:8)      189.0         8.0       181.0\n",
       "5782      1   (passengers:1  crew:0)        1.0         0.0         1.0\n",
       "\n",
       "[5783 rows x 4 columns]"
      ]
     },
     "metadata": {},
     "output_type": "display_data"
    },
    {
     "data": {
      "text/plain": [
       "fatalities      0\n",
       "tot_fatal      11\n",
       "fatal_crew    556\n",
       "fatal_pass    558\n",
       "dtype: int64"
      ]
     },
     "metadata": {},
     "output_type": "display_data"
    }
   ],
   "source": [
    "display(df.loc[:, df.columns.str.contains(\"fatal\")])\n",
    "display(df.loc[:, df.columns.str.contains(\"fatal\")].isnull().sum()) #missing values does make sense"
   ]
  },
  {
   "cell_type": "code",
   "execution_count": 60,
   "id": "63a3afd2",
   "metadata": {},
   "outputs": [
    {
     "data": {
      "text/html": [
       "<div>\n",
       "<style scoped>\n",
       "    .dataframe tbody tr th:only-of-type {\n",
       "        vertical-align: middle;\n",
       "    }\n",
       "\n",
       "    .dataframe tbody tr th {\n",
       "        vertical-align: top;\n",
       "    }\n",
       "\n",
       "    .dataframe thead th {\n",
       "        text-align: right;\n",
       "    }\n",
       "</style>\n",
       "<table border=\"1\" class=\"dataframe\">\n",
       "  <thead>\n",
       "    <tr style=\"text-align: right;\">\n",
       "      <th></th>\n",
       "      <th>tot_fatal</th>\n",
       "      <th>fatal_crew</th>\n",
       "      <th>fatal_pass</th>\n",
       "    </tr>\n",
       "  </thead>\n",
       "  <tbody>\n",
       "    <tr>\n",
       "      <th>count</th>\n",
       "      <td>5772.000000</td>\n",
       "      <td>5227.000000</td>\n",
       "      <td>5225.000000</td>\n",
       "    </tr>\n",
       "    <tr>\n",
       "      <th>mean</th>\n",
       "      <td>41.081428</td>\n",
       "      <td>3.352018</td>\n",
       "      <td>16.943158</td>\n",
       "    </tr>\n",
       "    <tr>\n",
       "      <th>std</th>\n",
       "      <td>1607.501441</td>\n",
       "      <td>3.131580</td>\n",
       "      <td>32.622593</td>\n",
       "    </tr>\n",
       "    <tr>\n",
       "      <th>min</th>\n",
       "      <td>0.000000</td>\n",
       "      <td>0.000000</td>\n",
       "      <td>0.000000</td>\n",
       "    </tr>\n",
       "    <tr>\n",
       "      <th>25%</th>\n",
       "      <td>3.000000</td>\n",
       "      <td>1.000000</td>\n",
       "      <td>1.000000</td>\n",
       "    </tr>\n",
       "    <tr>\n",
       "      <th>50%</th>\n",
       "      <td>9.000000</td>\n",
       "      <td>3.000000</td>\n",
       "      <td>5.000000</td>\n",
       "    </tr>\n",
       "    <tr>\n",
       "      <th>75%</th>\n",
       "      <td>22.000000</td>\n",
       "      <td>4.000000</td>\n",
       "      <td>18.000000</td>\n",
       "    </tr>\n",
       "    <tr>\n",
       "      <th>max</th>\n",
       "      <td>122122.000000</td>\n",
       "      <td>46.000000</td>\n",
       "      <td>560.000000</td>\n",
       "    </tr>\n",
       "  </tbody>\n",
       "</table>\n",
       "</div>"
      ],
      "text/plain": [
       "           tot_fatal   fatal_crew   fatal_pass\n",
       "count    5772.000000  5227.000000  5225.000000\n",
       "mean       41.081428     3.352018    16.943158\n",
       "std      1607.501441     3.131580    32.622593\n",
       "min         0.000000     0.000000     0.000000\n",
       "25%         3.000000     1.000000     1.000000\n",
       "50%         9.000000     3.000000     5.000000\n",
       "75%        22.000000     4.000000    18.000000\n",
       "max    122122.000000    46.000000   560.000000"
      ]
     },
     "execution_count": 60,
     "metadata": {},
     "output_type": "execute_result"
    }
   ],
   "source": [
    "df.loc[:, df.columns.str.contains(\"fatal\")].describe()"
   ]
  },
  {
   "cell_type": "code",
   "execution_count": 61,
   "id": "d6e41176",
   "metadata": {},
   "outputs": [
    {
     "data": {
      "text/plain": [
       "122122.0"
      ]
     },
     "execution_count": 61,
     "metadata": {},
     "output_type": "execute_result"
    }
   ],
   "source": [
    "df.tot_fatal.max() #this number does not make sense"
   ]
  },
  {
   "cell_type": "code",
   "execution_count": 62,
   "id": "88425d57",
   "metadata": {
    "scrolled": true
   },
   "outputs": [
    {
     "data": {
      "text/html": [
       "<div>\n",
       "<style scoped>\n",
       "    .dataframe tbody tr th:only-of-type {\n",
       "        vertical-align: middle;\n",
       "    }\n",
       "\n",
       "    .dataframe tbody tr th {\n",
       "        vertical-align: top;\n",
       "    }\n",
       "\n",
       "    .dataframe thead th {\n",
       "        text-align: right;\n",
       "    }\n",
       "</style>\n",
       "<table border=\"1\" class=\"dataframe\">\n",
       "  <thead>\n",
       "    <tr style=\"text-align: right;\">\n",
       "      <th></th>\n",
       "      <th>fatalities</th>\n",
       "      <th>tot_fatal</th>\n",
       "    </tr>\n",
       "  </thead>\n",
       "  <tbody>\n",
       "    <tr>\n",
       "      <th>2736</th>\n",
       "      <td>122122   (passengers:115  crew:7)</td>\n",
       "      <td>122122.0</td>\n",
       "    </tr>\n",
       "  </tbody>\n",
       "</table>\n",
       "</div>"
      ],
      "text/plain": [
       "                             fatalities  tot_fatal\n",
       "2736  122122   (passengers:115  crew:7)   122122.0"
      ]
     },
     "execution_count": 62,
     "metadata": {},
     "output_type": "execute_result"
    }
   ],
   "source": [
    "df.loc[df.tot_fatal == df.tot_fatal.max(), [\"fatalities\", \"tot_fatal\"]]"
   ]
  },
  {
   "cell_type": "code",
   "execution_count": 63,
   "id": "386ef644",
   "metadata": {},
   "outputs": [],
   "source": [
    "df.loc[df.tot_fatal == df.tot_fatal.max(), \"tot_fatal\"] = 112"
   ]
  },
  {
   "attachments": {},
   "cell_type": "markdown",
   "id": "e2865701",
   "metadata": {},
   "source": [
    "## Total killed on the ground"
   ]
  },
  {
   "cell_type": "code",
   "execution_count": 64,
   "id": "cda5ea98",
   "metadata": {},
   "outputs": [],
   "source": [
    "df.ground = pd.to_numeric(df.ground, errors = \"coerce\")"
   ]
  },
  {
   "cell_type": "code",
   "execution_count": 65,
   "id": "bbd9912a",
   "metadata": {
    "scrolled": false
   },
   "outputs": [
    {
     "data": {
      "text/plain": [
       "count    5731.000000\n",
       "mean        1.526610\n",
       "std        51.666765\n",
       "min         0.000000\n",
       "25%         0.000000\n",
       "50%         0.000000\n",
       "75%         0.000000\n",
       "max      2750.000000\n",
       "Name: ground, dtype: float64"
      ]
     },
     "execution_count": 65,
     "metadata": {},
     "output_type": "execute_result"
    }
   ],
   "source": [
    "df.ground.describe() #Mostly zeros"
   ]
  },
  {
   "cell_type": "code",
   "execution_count": 66,
   "id": "f256495a",
   "metadata": {
    "scrolled": true
   },
   "outputs": [
    {
     "data": {
      "text/plain": [
       "0       During a demonstration flight, a U.S. Army fly...\n",
       "1       Eugene Lefebvre was the first pilot to ever be...\n",
       "2       First U.S. dirigible Akron exploded just offsh...\n",
       "3       The first fatal airplane accident in Canada oc...\n",
       "4       The airship flew into a thunderstorm and encou...\n",
       "                              ...                        \n",
       "5778    Shortly after takeoff from runway 29, the left...\n",
       "5779    The vintage aircraft crashed onto Piz Segnas m...\n",
       "5780    The aircraft was approaching for a landing at ...\n",
       "5781    The airliner crashed into the Jakarta Sea, 13 ...\n",
       "5782    After taking off and reaching FL200, the crew ...\n",
       "Name: summary, Length: 5783, dtype: object"
      ]
     },
     "execution_count": 66,
     "metadata": {},
     "output_type": "execute_result"
    }
   ],
   "source": [
    "#needs words processing, kept as-is\n",
    "df.summary"
   ]
  },
  {
   "cell_type": "markdown",
   "id": "bfd10a4f",
   "metadata": {},
   "source": [
    "# Insights"
   ]
  },
  {
   "cell_type": "code",
   "execution_count": 67,
   "id": "ca46b531",
   "metadata": {
    "scrolled": false
   },
   "outputs": [],
   "source": [
    "df.date = df.date_parsed\n",
    "df.time = df.time_parsed\n",
    "df.location = df.loc_cln\n",
    "columns_to_drop = [\"date_parsed\", \"time_parsed\", \"loc_cln\", \"cn_ln\", \"registration\", \"aboard\", \"fatalities\"]\n",
    "df = df.drop(columns_to_drop, axis = 1)"
   ]
  },
  {
   "cell_type": "code",
   "execution_count": 68,
   "id": "02a81306",
   "metadata": {
    "scrolled": false
   },
   "outputs": [
    {
     "name": "stdout",
     "output_type": "stream",
     "text": [
      "<class 'pandas.core.frame.DataFrame'>\n",
      "RangeIndex: 5783 entries, 0 to 5782\n",
      "Data columns (total 15 columns):\n",
      " #   Column         Non-Null Count  Dtype         \n",
      "---  ------         --------------  -----         \n",
      " 0   date           5783 non-null   datetime64[ns]\n",
      " 1   time           3656 non-null   datetime64[ns]\n",
      " 2   location       5777 non-null   category      \n",
      " 3   operator       5762 non-null   object        \n",
      " 4   route          4289 non-null   object        \n",
      " 5   ac_type        5759 non-null   object        \n",
      " 6   ground         5731 non-null   float64       \n",
      " 7   summary        5552 non-null   object        \n",
      " 8   military_flag  5762 non-null   object        \n",
      " 9   tot_aboard     5743 non-null   float64       \n",
      " 10  tot_crew       5244 non-null   float64       \n",
      " 11  tot_pass       5240 non-null   float64       \n",
      " 12  tot_fatal      5772 non-null   float64       \n",
      " 13  fatal_crew     5227 non-null   float64       \n",
      " 14  fatal_pass     5225 non-null   float64       \n",
      "dtypes: category(1), datetime64[ns](2), float64(7), object(5)\n",
      "memory usage: 664.0+ KB\n"
     ]
    }
   ],
   "source": [
    "df.info()"
   ]
  },
  {
   "cell_type": "code",
   "execution_count": 69,
   "id": "ce3a14a2",
   "metadata": {
    "scrolled": false
   },
   "outputs": [
    {
     "data": {
      "text/html": [
       "<div>\n",
       "<style scoped>\n",
       "    .dataframe tbody tr th:only-of-type {\n",
       "        vertical-align: middle;\n",
       "    }\n",
       "\n",
       "    .dataframe tbody tr th {\n",
       "        vertical-align: top;\n",
       "    }\n",
       "\n",
       "    .dataframe thead th {\n",
       "        text-align: right;\n",
       "    }\n",
       "</style>\n",
       "<table border=\"1\" class=\"dataframe\">\n",
       "  <thead>\n",
       "    <tr style=\"text-align: right;\">\n",
       "      <th></th>\n",
       "      <th>ground</th>\n",
       "      <th>tot_aboard</th>\n",
       "      <th>tot_crew</th>\n",
       "      <th>tot_pass</th>\n",
       "      <th>tot_fatal</th>\n",
       "      <th>fatal_crew</th>\n",
       "      <th>fatal_pass</th>\n",
       "    </tr>\n",
       "  </thead>\n",
       "  <tbody>\n",
       "    <tr>\n",
       "      <th>count</th>\n",
       "      <td>5731.000000</td>\n",
       "      <td>5743.000000</td>\n",
       "      <td>5244.000000</td>\n",
       "      <td>5240.000000</td>\n",
       "      <td>5772.000000</td>\n",
       "      <td>5227.000000</td>\n",
       "      <td>5225.000000</td>\n",
       "    </tr>\n",
       "    <tr>\n",
       "      <th>mean</th>\n",
       "      <td>1.526610</td>\n",
       "      <td>27.548320</td>\n",
       "      <td>4.141304</td>\n",
       "      <td>23.968893</td>\n",
       "      <td>19.943174</td>\n",
       "      <td>3.352018</td>\n",
       "      <td>16.943158</td>\n",
       "    </tr>\n",
       "    <tr>\n",
       "      <th>std</th>\n",
       "      <td>51.666765</td>\n",
       "      <td>42.954194</td>\n",
       "      <td>3.466476</td>\n",
       "      <td>42.257719</td>\n",
       "      <td>33.015760</td>\n",
       "      <td>3.131580</td>\n",
       "      <td>32.622593</td>\n",
       "    </tr>\n",
       "    <tr>\n",
       "      <th>min</th>\n",
       "      <td>0.000000</td>\n",
       "      <td>0.000000</td>\n",
       "      <td>0.000000</td>\n",
       "      <td>0.000000</td>\n",
       "      <td>0.000000</td>\n",
       "      <td>0.000000</td>\n",
       "      <td>0.000000</td>\n",
       "    </tr>\n",
       "    <tr>\n",
       "      <th>25%</th>\n",
       "      <td>0.000000</td>\n",
       "      <td>5.000000</td>\n",
       "      <td>2.000000</td>\n",
       "      <td>2.000000</td>\n",
       "      <td>3.000000</td>\n",
       "      <td>1.000000</td>\n",
       "      <td>1.000000</td>\n",
       "    </tr>\n",
       "    <tr>\n",
       "      <th>50%</th>\n",
       "      <td>0.000000</td>\n",
       "      <td>13.000000</td>\n",
       "      <td>3.000000</td>\n",
       "      <td>9.000000</td>\n",
       "      <td>9.000000</td>\n",
       "      <td>3.000000</td>\n",
       "      <td>5.000000</td>\n",
       "    </tr>\n",
       "    <tr>\n",
       "      <th>75%</th>\n",
       "      <td>0.000000</td>\n",
       "      <td>30.000000</td>\n",
       "      <td>5.000000</td>\n",
       "      <td>26.000000</td>\n",
       "      <td>22.000000</td>\n",
       "      <td>4.000000</td>\n",
       "      <td>18.000000</td>\n",
       "    </tr>\n",
       "    <tr>\n",
       "      <th>max</th>\n",
       "      <td>2750.000000</td>\n",
       "      <td>644.000000</td>\n",
       "      <td>61.000000</td>\n",
       "      <td>614.000000</td>\n",
       "      <td>583.000000</td>\n",
       "      <td>46.000000</td>\n",
       "      <td>560.000000</td>\n",
       "    </tr>\n",
       "  </tbody>\n",
       "</table>\n",
       "</div>"
      ],
      "text/plain": [
       "            ground   tot_aboard     tot_crew     tot_pass    tot_fatal  \\\n",
       "count  5731.000000  5743.000000  5244.000000  5240.000000  5772.000000   \n",
       "mean      1.526610    27.548320     4.141304    23.968893    19.943174   \n",
       "std      51.666765    42.954194     3.466476    42.257719    33.015760   \n",
       "min       0.000000     0.000000     0.000000     0.000000     0.000000   \n",
       "25%       0.000000     5.000000     2.000000     2.000000     3.000000   \n",
       "50%       0.000000    13.000000     3.000000     9.000000     9.000000   \n",
       "75%       0.000000    30.000000     5.000000    26.000000    22.000000   \n",
       "max    2750.000000   644.000000    61.000000   614.000000   583.000000   \n",
       "\n",
       "        fatal_crew   fatal_pass  \n",
       "count  5227.000000  5225.000000  \n",
       "mean      3.352018    16.943158  \n",
       "std       3.131580    32.622593  \n",
       "min       0.000000     0.000000  \n",
       "25%       1.000000     1.000000  \n",
       "50%       3.000000     5.000000  \n",
       "75%       4.000000    18.000000  \n",
       "max      46.000000   560.000000  "
      ]
     },
     "execution_count": 69,
     "metadata": {},
     "output_type": "execute_result"
    }
   ],
   "source": [
    "df.describe()"
   ]
  },
  {
   "cell_type": "code",
   "execution_count": 70,
   "id": "3788fdb5",
   "metadata": {},
   "outputs": [
    {
     "data": {
      "text/plain": [
       "False    4930\n",
       "True      832\n",
       "Name: military_flag, dtype: int64"
      ]
     },
     "execution_count": 70,
     "metadata": {},
     "output_type": "execute_result"
    }
   ],
   "source": [
    "df.military_flag.value_counts()"
   ]
  },
  {
   "cell_type": "code",
   "execution_count": 71,
   "id": "c405d132",
   "metadata": {
    "scrolled": true
   },
   "outputs": [
    {
     "data": {
      "text/html": [
       "<div>\n",
       "<style scoped>\n",
       "    .dataframe tbody tr th:only-of-type {\n",
       "        vertical-align: middle;\n",
       "    }\n",
       "\n",
       "    .dataframe tbody tr th {\n",
       "        vertical-align: top;\n",
       "    }\n",
       "\n",
       "    .dataframe thead tr th {\n",
       "        text-align: left;\n",
       "    }\n",
       "\n",
       "    .dataframe thead tr:last-of-type th {\n",
       "        text-align: right;\n",
       "    }\n",
       "</style>\n",
       "<table border=\"1\" class=\"dataframe\">\n",
       "  <thead>\n",
       "    <tr>\n",
       "      <th></th>\n",
       "      <th colspan=\"2\" halign=\"left\">tot_aboard</th>\n",
       "      <th colspan=\"2\" halign=\"left\">tot_fatal</th>\n",
       "    </tr>\n",
       "    <tr>\n",
       "      <th></th>\n",
       "      <th>mean</th>\n",
       "      <th>count</th>\n",
       "      <th>mean</th>\n",
       "      <th>count</th>\n",
       "    </tr>\n",
       "    <tr>\n",
       "      <th>military_flag</th>\n",
       "      <th></th>\n",
       "      <th></th>\n",
       "      <th></th>\n",
       "      <th></th>\n",
       "    </tr>\n",
       "  </thead>\n",
       "  <tbody>\n",
       "    <tr>\n",
       "      <th>False</th>\n",
       "      <td>27.682319</td>\n",
       "      <td>4898</td>\n",
       "      <td>19.154034</td>\n",
       "      <td>4921</td>\n",
       "    </tr>\n",
       "    <tr>\n",
       "      <th>True</th>\n",
       "      <td>27.139928</td>\n",
       "      <td>829</td>\n",
       "      <td>24.932530</td>\n",
       "      <td>830</td>\n",
       "    </tr>\n",
       "  </tbody>\n",
       "</table>\n",
       "</div>"
      ],
      "text/plain": [
       "              tot_aboard        tot_fatal      \n",
       "                    mean count       mean count\n",
       "military_flag                                  \n",
       "False          27.682319  4898  19.154034  4921\n",
       "True           27.139928   829  24.932530   830"
      ]
     },
     "execution_count": 71,
     "metadata": {},
     "output_type": "execute_result"
    }
   ],
   "source": [
    "df\n",
    "df.loc[:,[\"tot_aboard\", \"tot_fatal\", \"military_flag\"]].groupby(\"military_flag\").agg(['mean', 'count'])"
   ]
  },
  {
   "cell_type": "code",
   "execution_count": 72,
   "id": "9fc5e2ca",
   "metadata": {},
   "outputs": [
    {
     "data": {
      "text/plain": [
       "1972    105\n",
       "1968     97\n",
       "1967     96\n",
       "1989     95\n",
       "1969     91\n",
       "1970     91\n",
       "1979     91\n",
       "1973     91\n",
       "1976     88\n",
       "1991     88\n",
       "1946     88\n",
       "1994     87\n",
       "1974     86\n",
       "1992     86\n",
       "1977     83\n",
       "1988     83\n",
       "1947     82\n",
       "1996     81\n",
       "1995     79\n",
       "1999     79\n",
       "Name: date, dtype: int64"
      ]
     },
     "execution_count": 72,
     "metadata": {},
     "output_type": "execute_result"
    }
   ],
   "source": [
    "#total number of accidents in top years\n",
    "df.date.dt.year.value_counts().sort_values(ascending=False).nlargest(20)"
   ]
  },
  {
   "cell_type": "markdown",
   "id": "9fe48333",
   "metadata": {},
   "source": [
    "### Derived Variable: how fatal the accident was?\n",
    "\n",
    "It is based on total number of fatalities over total number of passenger and crew aboard"
   ]
  },
  {
   "cell_type": "code",
   "execution_count": 73,
   "id": "dbfc7b13",
   "metadata": {
    "scrolled": true
   },
   "outputs": [
    {
     "data": {
      "text/plain": [
       "count    5738.000000\n",
       "mean       83.283804\n",
       "std        29.985402\n",
       "min         0.000000\n",
       "25%        80.000000\n",
       "50%       100.000000\n",
       "75%       100.000000\n",
       "max       100.000000\n",
       "Name: fatality_rate, dtype: float64"
      ]
     },
     "execution_count": 73,
     "metadata": {},
     "output_type": "execute_result"
    }
   ],
   "source": [
    "df[\"fatality_rate\"] = round((df.tot_fatal / df.tot_aboard) * 100, 2)\n",
    "df.fatality_rate.describe()"
   ]
  },
  {
   "cell_type": "markdown",
   "id": "89cbca07",
   "metadata": {},
   "source": [
    "* Average of 41 fatalities per flight\n",
    "* Maximum fatalities were in commercial airplanes as they had the most passengers\n",
    "* Majority ( of accidents had a %100 fatality rate.\n",
    "* Military flights have the same average number of passangers with non-military flights\n",
    "* Maximum number of accidents happened in 1972"
   ]
  },
  {
   "cell_type": "markdown",
   "id": "cd8be67a",
   "metadata": {},
   "source": [
    "# Visualizations"
   ]
  },
  {
   "cell_type": "code",
   "execution_count": 74,
   "id": "ad7128c6",
   "metadata": {},
   "outputs": [],
   "source": [
    "import seaborn as sns\n",
    "import matplotlib.pyplot as plt"
   ]
  },
  {
   "cell_type": "code",
   "execution_count": 75,
   "id": "5bdf738e",
   "metadata": {},
   "outputs": [
    {
     "data": {
      "image/png": "[encoded data removed]",
      "text/plain": [
       "<Figure size 1440x720 with 1 Axes>"
      ]
     },
     "metadata": {
      "needs_background": "light"
     },
     "output_type": "display_data"
    }
   ],
   "source": [
    "plt.figure(figsize=(20,10))\n",
    "plt.hist(df.tot_aboard, bins= 100)\n",
    "plt.title(\"Total aboard distribution\")\n",
    "plt.xlabel(\"Number of passangers\")\n",
    "plt.show()"
   ]
  },
  {
   "cell_type": "code",
   "execution_count": 76,
   "id": "85b17ee3",
   "metadata": {
    "scrolled": true
   },
   "outputs": [
    {
     "data": {
      "text/plain": [
       "USA          1478\n",
       "Russia        261\n",
       "Brazil        202\n",
       "Colombia      163\n",
       "Canada        159\n",
       "France        132\n",
       "England       107\n",
       "Indonesia     106\n",
       "India         105\n",
       "China          95\n",
       "Mexico         95\n",
       "Italy          85\n",
       "Germany        81\n",
       "Australia      81\n",
       "USSR           72\n",
       "Name: location, dtype: int64"
      ]
     },
     "execution_count": 76,
     "metadata": {},
     "output_type": "execute_result"
    }
   ],
   "source": [
    "loc_count = df.location.value_counts().nlargest(15)\n",
    "loc_count"
   ]
  },
  {
   "cell_type": "code",
   "execution_count": 77,
   "id": "ba41e841",
   "metadata": {
    "scrolled": true
   },
   "outputs": [
    {
     "data": {
      "image/png": "[encoded data removed]",
      "text/plain": [
       "<Figure size 864x576 with 1 Axes>"
      ]
     },
     "metadata": {
      "needs_background": "light"
     },
     "output_type": "display_data"
    }
   ],
   "source": [
    "plt.figure(figsize=(12,8))\n",
    "plt.bar(height = loc_count.values, x = loc_count.index, color = \"orange\")\n",
    "plt.xticks(rotation=45)\n",
    "plt.title(\"Number of accidents scattered over different countries\")\n",
    "plt.ylabel(\"Count\")\n",
    "plt.show()"
   ]
  },
  {
   "cell_type": "markdown",
   "id": "0c3463ce",
   "metadata": {},
   "source": []
  },
  {
   "cell_type": "code",
   "execution_count": 78,
   "id": "d7e3967b",
   "metadata": {
    "scrolled": false
   },
   "outputs": [
    {
     "data": {
      "image/png": "[encoded data removed]",
      "text/plain": [
       "<Figure size 720x432 with 1 Axes>"
      ]
     },
     "metadata": {
      "needs_background": "light"
     },
     "output_type": "display_data"
    }
   ],
   "source": [
    "df[\"year\"] = df.date.dt.year\n",
    "df[\"month\"] = df.date.dt.month\n",
    "\n",
    "mm = df.month.value_counts().sort_index()\n",
    "plt.figure(figsize=(10,6))\n",
    "plt.bar(height = mm.values, x = look_up.keys(), color = \"grey\")\n",
    "plt.title(\"Number of accidents scattered over different months\")\n",
    "plt.ylabel(\"Count\")\n",
    "plt.show()"
   ]
  },
  {
   "cell_type": "code",
   "execution_count": 79,
   "id": "3bb8e831",
   "metadata": {
    "scrolled": true
   },
   "outputs": [
    {
     "data": {
      "image/png": "[encoded data removed]",
      "text/plain": [
       "<Figure size 720x432 with 1 Axes>"
      ]
     },
     "metadata": {
      "needs_background": "light"
     },
     "output_type": "display_data"
    }
   ],
   "source": [
    "mm = df.year.value_counts().sort_index()\n",
    "plt.figure(figsize=(10,6))\n",
    "plt.bar(height = mm.values, x = mm.index, color = \"skyblue\")\n",
    "plt.title(\"Number of accidents scattered over the years\")\n",
    "plt.ylabel(\"Count\")\n",
    "plt.show()"
   ]
  },
  {
   "cell_type": "markdown",
   "id": "62d44a87",
   "metadata": {},
   "source": [
    "* __January, August and Decemeber__ are when most accidents happen\n",
    "* The trend shows an increase in number of accidents but has been plumetting since the 1990s"
   ]
  },
  {
   "cell_type": "markdown",
   "id": "83b33e60",
   "metadata": {},
   "source": [
    "# Next Steps\n",
    "\n",
    "The cleaned data can be used for future analyses and consists of the following cleaned/derived columns"
   ]
  },
  {
   "cell_type": "code",
   "execution_count": 80,
   "id": "7c8511e8",
   "metadata": {},
   "outputs": [
    {
     "name": "stdout",
     "output_type": "stream",
     "text": [
      "<class 'pandas.core.frame.DataFrame'>\n",
      "RangeIndex: 5783 entries, 0 to 5782\n",
      "Data columns (total 18 columns):\n",
      " #   Column         Non-Null Count  Dtype         \n",
      "---  ------         --------------  -----         \n",
      " 0   date           5783 non-null   datetime64[ns]\n",
      " 1   time           3656 non-null   datetime64[ns]\n",
      " 2   location       5777 non-null   category      \n",
      " 3   operator       5762 non-null   object        \n",
      " 4   route          4289 non-null   object        \n",
      " 5   ac_type        5759 non-null   object        \n",
      " 6   ground         5731 non-null   float64       \n",
      " 7   summary        5552 non-null   object        \n",
      " 8   military_flag  5762 non-null   object        \n",
      " 9   tot_aboard     5743 non-null   float64       \n",
      " 10  tot_crew       5244 non-null   float64       \n",
      " 11  tot_pass       5240 non-null   float64       \n",
      " 12  tot_fatal      5772 non-null   float64       \n",
      " 13  fatal_crew     5227 non-null   float64       \n",
      " 14  fatal_pass     5225 non-null   float64       \n",
      " 15  fatality_rate  5738 non-null   float64       \n",
      " 16  year           5783 non-null   int64         \n",
      " 17  month          5783 non-null   int64         \n",
      "dtypes: category(1), datetime64[ns](2), float64(8), int64(2), object(5)\n",
      "memory usage: 799.5+ KB\n"
     ]
    }
   ],
   "source": [
    "df.info()"
   ]
  }
 ],
 "metadata": {
  "kernelspec": {
   "display_name": "Python 3 (ipykernel)",
   "language": "python",
   "name": "python3"
  },
  "language_info": {
   "codemirror_mode": {
    "name": "ipython",
    "version": 3
   },
   "file_extension": ".py",
   "mimetype": "text/x-python",
   "name": "python",
   "nbconvert_exporter": "python",
   "pygments_lexer": "ipython3",
   "version": "3.10.1"
  }
 },
 "nbformat": 4,
 "nbformat_minor": 5
}
